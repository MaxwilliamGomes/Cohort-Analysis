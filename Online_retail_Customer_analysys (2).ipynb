{
  "nbformat": 4,
  "nbformat_minor": 0,
  "metadata": {
    "colab": {
      "provenance": []
    },
    "kernelspec": {
      "name": "ir",
      "display_name": "R"
    },
    "language_info": {
      "name": "R"
    }
  },
  "cells": [
    {
      "cell_type": "markdown",
      "source": [
        "# Problema de Negócios"
      ],
      "metadata": {
        "id": "LitcvTvHLf9U"
      }
    },
    {
      "cell_type": "markdown",
      "source": [
        "O objetivo é identificar padrões de comportamento de compra dos clientes ao longo do tempo e analisar a retenção de clientes por meio da criação de cohorts. A empresa deseja responder a perguntas como:\n",
        "\n",
        "Qual é a taxa de retenção de clientes ao longo dos meses?\n",
        "\n",
        "Como o comportamento de compra varia entre diferentes cohorts ao longo dos meses?\n",
        "\n"
      ],
      "metadata": {
        "id": "tqtJHThwDg08"
      }
    },
    {
      "cell_type": "markdown",
      "source": [
        "# Dicionário de dados"
      ],
      "metadata": {
        "id": "MShQ9sTDLmrc"
      }
    },
    {
      "cell_type": "markdown",
      "source": [
        "Invoice: Número da fatura, identificador único para cada transação.\n",
        "\n",
        "StockCode: Código do produto ou item no estoque.\n",
        "\n",
        "Description: Descrição do produto ou item.\n",
        "\n",
        "Quantity: Quantidade do produto comprado.\n",
        "\n",
        "InvoiceDate: Data e hora da fatura (no formato datetime).\n",
        "\n",
        "Price: Preço unitário do produto.\n",
        "\n",
        "Customer ID: Identificador único do cliente.\n",
        "\n",
        "Country: País onde a transação foi realizada.\n",
        "\n",
        "\n",
        "fonte: https://archive.ics.uci.edu/dataset/502/online+retail+ii"
      ],
      "metadata": {
        "id": "3jRcFbdKnO03"
      }
    },
    {
      "cell_type": "code",
      "execution_count": null,
      "metadata": {
        "colab": {
          "base_uri": "https://localhost:8080/"
        },
        "id": "X1006zMoNjgW",
        "outputId": "82e34cdb-b55c-40a4-cb36-9184388878f4"
      },
      "outputs": [
        {
          "output_type": "stream",
          "name": "stderr",
          "text": [
            "Installing package into ‘/usr/local/lib/R/site-library’\n",
            "(as ‘lib’ is unspecified)\n",
            "\n",
            "Installing package into ‘/usr/local/lib/R/site-library’\n",
            "(as ‘lib’ is unspecified)\n",
            "\n",
            "Installing package into ‘/usr/local/lib/R/site-library’\n",
            "(as ‘lib’ is unspecified)\n",
            "\n"
          ]
        }
      ],
      "source": [
        "install.packages(\"tidyverse\")\n",
        "install.packages(\"readxl\")\n",
        "install.packages(\"writexl\")\n"
      ]
    },
    {
      "cell_type": "code",
      "source": [
        "library(tidyverse)\n",
        "library(ggplot2)\n",
        "library(readxl)\n",
        "library(writexl)\n"
      ],
      "metadata": {
        "id": "pbW0sztsOEJg"
      },
      "execution_count": null,
      "outputs": []
    },
    {
      "cell_type": "code",
      "source": [
        "retail_2009_2010 <-readxl::read_excel(\"/content/online_retail_II.xlsx\", sheet = \"Year 2009-2010\")\n",
        "retail_2010_2011 <-readxl::read_excel(\"/content/online_retail_II.xlsx\", sheet = \"Year 2010-2011\")\n",
        "\n",
        "retail1 <- retail_2009_2010\n",
        "retail2 <-retail_2010_2011"
      ],
      "metadata": {
        "id": "GL8NsjuhUIQ3"
      },
      "execution_count": null,
      "outputs": []
    },
    {
      "cell_type": "code",
      "source": [
        "retail_combined <- bind_rows(retail1, retail2)"
      ],
      "metadata": {
        "id": "-amV2ZQLWEBc"
      },
      "execution_count": null,
      "outputs": []
    },
    {
      "cell_type": "code",
      "source": [
        "head(retail_combined)"
      ],
      "metadata": {
        "colab": {
          "base_uri": "https://localhost:8080/",
          "height": 286
        },
        "id": "DEDVnQSOPqon",
        "outputId": "5d5970af-b725-4bd2-b1fa-9712d093d301"
      },
      "execution_count": null,
      "outputs": [
        {
          "output_type": "display_data",
          "data": {
            "text/html": [
              "<table class=\"dataframe\">\n",
              "<caption>A tibble: 6 × 8</caption>\n",
              "<thead>\n",
              "\t<tr><th scope=col>Invoice</th><th scope=col>StockCode</th><th scope=col>Description</th><th scope=col>Quantity</th><th scope=col>InvoiceDate</th><th scope=col>Price</th><th scope=col>Customer ID</th><th scope=col>Country</th></tr>\n",
              "\t<tr><th scope=col>&lt;chr&gt;</th><th scope=col>&lt;chr&gt;</th><th scope=col>&lt;chr&gt;</th><th scope=col>&lt;dbl&gt;</th><th scope=col>&lt;dttm&gt;</th><th scope=col>&lt;dbl&gt;</th><th scope=col>&lt;dbl&gt;</th><th scope=col>&lt;chr&gt;</th></tr>\n",
              "</thead>\n",
              "<tbody>\n",
              "\t<tr><td>489434</td><td>85048 </td><td>15CM CHRISTMAS GLASS BALL 20 LIGHTS</td><td>12</td><td>2009-12-01 07:45:00</td><td>6.95</td><td>13085</td><td>United Kingdom</td></tr>\n",
              "\t<tr><td>489434</td><td>79323P</td><td>PINK CHERRY LIGHTS                 </td><td>12</td><td>2009-12-01 07:45:00</td><td>6.75</td><td>13085</td><td>United Kingdom</td></tr>\n",
              "\t<tr><td>489434</td><td>79323W</td><td>WHITE CHERRY LIGHTS                </td><td>12</td><td>2009-12-01 07:45:00</td><td>6.75</td><td>13085</td><td>United Kingdom</td></tr>\n",
              "\t<tr><td>489434</td><td>22041 </td><td>RECORD FRAME 7\" SINGLE SIZE        </td><td>48</td><td>2009-12-01 07:45:00</td><td>2.10</td><td>13085</td><td>United Kingdom</td></tr>\n",
              "\t<tr><td>489434</td><td>21232 </td><td>STRAWBERRY CERAMIC TRINKET BOX     </td><td>24</td><td>2009-12-01 07:45:00</td><td>1.25</td><td>13085</td><td>United Kingdom</td></tr>\n",
              "\t<tr><td>489434</td><td>22064 </td><td>PINK DOUGHNUT TRINKET POT          </td><td>24</td><td>2009-12-01 07:45:00</td><td>1.65</td><td>13085</td><td>United Kingdom</td></tr>\n",
              "</tbody>\n",
              "</table>\n"
            ],
            "text/markdown": "\nA tibble: 6 × 8\n\n| Invoice &lt;chr&gt; | StockCode &lt;chr&gt; | Description &lt;chr&gt; | Quantity &lt;dbl&gt; | InvoiceDate &lt;dttm&gt; | Price &lt;dbl&gt; | Customer ID &lt;dbl&gt; | Country &lt;chr&gt; |\n|---|---|---|---|---|---|---|---|\n| 489434 | 85048  | 15CM CHRISTMAS GLASS BALL 20 LIGHTS | 12 | 2009-12-01 07:45:00 | 6.95 | 13085 | United Kingdom |\n| 489434 | 79323P | PINK CHERRY LIGHTS                  | 12 | 2009-12-01 07:45:00 | 6.75 | 13085 | United Kingdom |\n| 489434 | 79323W | WHITE CHERRY LIGHTS                 | 12 | 2009-12-01 07:45:00 | 6.75 | 13085 | United Kingdom |\n| 489434 | 22041  | RECORD FRAME 7\" SINGLE SIZE         | 48 | 2009-12-01 07:45:00 | 2.10 | 13085 | United Kingdom |\n| 489434 | 21232  | STRAWBERRY CERAMIC TRINKET BOX      | 24 | 2009-12-01 07:45:00 | 1.25 | 13085 | United Kingdom |\n| 489434 | 22064  | PINK DOUGHNUT TRINKET POT           | 24 | 2009-12-01 07:45:00 | 1.65 | 13085 | United Kingdom |\n\n",
            "text/latex": "A tibble: 6 × 8\n\\begin{tabular}{llllllll}\n Invoice & StockCode & Description & Quantity & InvoiceDate & Price & Customer ID & Country\\\\\n <chr> & <chr> & <chr> & <dbl> & <dttm> & <dbl> & <dbl> & <chr>\\\\\n\\hline\n\t 489434 & 85048  & 15CM CHRISTMAS GLASS BALL 20 LIGHTS & 12 & 2009-12-01 07:45:00 & 6.95 & 13085 & United Kingdom\\\\\n\t 489434 & 79323P & PINK CHERRY LIGHTS                  & 12 & 2009-12-01 07:45:00 & 6.75 & 13085 & United Kingdom\\\\\n\t 489434 & 79323W & WHITE CHERRY LIGHTS                 & 12 & 2009-12-01 07:45:00 & 6.75 & 13085 & United Kingdom\\\\\n\t 489434 & 22041  & RECORD FRAME 7\" SINGLE SIZE         & 48 & 2009-12-01 07:45:00 & 2.10 & 13085 & United Kingdom\\\\\n\t 489434 & 21232  & STRAWBERRY CERAMIC TRINKET BOX      & 24 & 2009-12-01 07:45:00 & 1.25 & 13085 & United Kingdom\\\\\n\t 489434 & 22064  & PINK DOUGHNUT TRINKET POT           & 24 & 2009-12-01 07:45:00 & 1.65 & 13085 & United Kingdom\\\\\n\\end{tabular}\n",
            "text/plain": [
              "  Invoice StockCode Description                         Quantity\n",
              "1 489434  85048     15CM CHRISTMAS GLASS BALL 20 LIGHTS 12      \n",
              "2 489434  79323P    PINK CHERRY LIGHTS                  12      \n",
              "3 489434  79323W    WHITE CHERRY LIGHTS                 12      \n",
              "4 489434  22041     RECORD FRAME 7\" SINGLE SIZE         48      \n",
              "5 489434  21232     STRAWBERRY CERAMIC TRINKET BOX      24      \n",
              "6 489434  22064     PINK DOUGHNUT TRINKET POT           24      \n",
              "  InvoiceDate         Price Customer ID Country       \n",
              "1 2009-12-01 07:45:00 6.95  13085       United Kingdom\n",
              "2 2009-12-01 07:45:00 6.75  13085       United Kingdom\n",
              "3 2009-12-01 07:45:00 6.75  13085       United Kingdom\n",
              "4 2009-12-01 07:45:00 2.10  13085       United Kingdom\n",
              "5 2009-12-01 07:45:00 1.25  13085       United Kingdom\n",
              "6 2009-12-01 07:45:00 1.65  13085       United Kingdom"
            ]
          },
          "metadata": {}
        }
      ]
    },
    {
      "cell_type": "code",
      "source": [
        "tail(retail_combined)"
      ],
      "metadata": {
        "colab": {
          "base_uri": "https://localhost:8080/",
          "height": 286
        },
        "id": "wGzZPr2tPv5I",
        "outputId": "357c3002-9974-4b92-fd20-00246aeabfd6"
      },
      "execution_count": null,
      "outputs": [
        {
          "output_type": "display_data",
          "data": {
            "text/html": [
              "<table class=\"dataframe\">\n",
              "<caption>A tibble: 6 × 8</caption>\n",
              "<thead>\n",
              "\t<tr><th scope=col>Invoice</th><th scope=col>StockCode</th><th scope=col>Description</th><th scope=col>Quantity</th><th scope=col>InvoiceDate</th><th scope=col>Price</th><th scope=col>Customer ID</th><th scope=col>Country</th></tr>\n",
              "\t<tr><th scope=col>&lt;chr&gt;</th><th scope=col>&lt;chr&gt;</th><th scope=col>&lt;chr&gt;</th><th scope=col>&lt;dbl&gt;</th><th scope=col>&lt;dttm&gt;</th><th scope=col>&lt;dbl&gt;</th><th scope=col>&lt;dbl&gt;</th><th scope=col>&lt;chr&gt;</th></tr>\n",
              "</thead>\n",
              "<tbody>\n",
              "\t<tr><td>581587</td><td>22613</td><td>PACK OF 20 SPACEBOY NAPKINS    </td><td>12</td><td>2011-12-09 12:50:00</td><td> 0.85</td><td>12680</td><td>France</td></tr>\n",
              "\t<tr><td>581587</td><td>22899</td><td>CHILDREN'S APRON DOLLY GIRL    </td><td> 6</td><td>2011-12-09 12:50:00</td><td> 2.10</td><td>12680</td><td>France</td></tr>\n",
              "\t<tr><td>581587</td><td>23254</td><td>CHILDRENS CUTLERY DOLLY GIRL   </td><td> 4</td><td>2011-12-09 12:50:00</td><td> 4.15</td><td>12680</td><td>France</td></tr>\n",
              "\t<tr><td>581587</td><td>23255</td><td>CHILDRENS CUTLERY CIRCUS PARADE</td><td> 4</td><td>2011-12-09 12:50:00</td><td> 4.15</td><td>12680</td><td>France</td></tr>\n",
              "\t<tr><td>581587</td><td>22138</td><td>BAKING SET 9 PIECE RETROSPOT   </td><td> 3</td><td>2011-12-09 12:50:00</td><td> 4.95</td><td>12680</td><td>France</td></tr>\n",
              "\t<tr><td>581587</td><td>POST </td><td>POSTAGE                        </td><td> 1</td><td>2011-12-09 12:50:00</td><td>18.00</td><td>12680</td><td>France</td></tr>\n",
              "</tbody>\n",
              "</table>\n"
            ],
            "text/markdown": "\nA tibble: 6 × 8\n\n| Invoice &lt;chr&gt; | StockCode &lt;chr&gt; | Description &lt;chr&gt; | Quantity &lt;dbl&gt; | InvoiceDate &lt;dttm&gt; | Price &lt;dbl&gt; | Customer ID &lt;dbl&gt; | Country &lt;chr&gt; |\n|---|---|---|---|---|---|---|---|\n| 581587 | 22613 | PACK OF 20 SPACEBOY NAPKINS     | 12 | 2011-12-09 12:50:00 |  0.85 | 12680 | France |\n| 581587 | 22899 | CHILDREN'S APRON DOLLY GIRL     |  6 | 2011-12-09 12:50:00 |  2.10 | 12680 | France |\n| 581587 | 23254 | CHILDRENS CUTLERY DOLLY GIRL    |  4 | 2011-12-09 12:50:00 |  4.15 | 12680 | France |\n| 581587 | 23255 | CHILDRENS CUTLERY CIRCUS PARADE |  4 | 2011-12-09 12:50:00 |  4.15 | 12680 | France |\n| 581587 | 22138 | BAKING SET 9 PIECE RETROSPOT    |  3 | 2011-12-09 12:50:00 |  4.95 | 12680 | France |\n| 581587 | POST  | POSTAGE                         |  1 | 2011-12-09 12:50:00 | 18.00 | 12680 | France |\n\n",
            "text/latex": "A tibble: 6 × 8\n\\begin{tabular}{llllllll}\n Invoice & StockCode & Description & Quantity & InvoiceDate & Price & Customer ID & Country\\\\\n <chr> & <chr> & <chr> & <dbl> & <dttm> & <dbl> & <dbl> & <chr>\\\\\n\\hline\n\t 581587 & 22613 & PACK OF 20 SPACEBOY NAPKINS     & 12 & 2011-12-09 12:50:00 &  0.85 & 12680 & France\\\\\n\t 581587 & 22899 & CHILDREN'S APRON DOLLY GIRL     &  6 & 2011-12-09 12:50:00 &  2.10 & 12680 & France\\\\\n\t 581587 & 23254 & CHILDRENS CUTLERY DOLLY GIRL    &  4 & 2011-12-09 12:50:00 &  4.15 & 12680 & France\\\\\n\t 581587 & 23255 & CHILDRENS CUTLERY CIRCUS PARADE &  4 & 2011-12-09 12:50:00 &  4.15 & 12680 & France\\\\\n\t 581587 & 22138 & BAKING SET 9 PIECE RETROSPOT    &  3 & 2011-12-09 12:50:00 &  4.95 & 12680 & France\\\\\n\t 581587 & POST  & POSTAGE                         &  1 & 2011-12-09 12:50:00 & 18.00 & 12680 & France\\\\\n\\end{tabular}\n",
            "text/plain": [
              "  Invoice StockCode Description                     Quantity\n",
              "1 581587  22613     PACK OF 20 SPACEBOY NAPKINS     12      \n",
              "2 581587  22899     CHILDREN'S APRON DOLLY GIRL      6      \n",
              "3 581587  23254     CHILDRENS CUTLERY DOLLY GIRL     4      \n",
              "4 581587  23255     CHILDRENS CUTLERY CIRCUS PARADE  4      \n",
              "5 581587  22138     BAKING SET 9 PIECE RETROSPOT     3      \n",
              "6 581587  POST      POSTAGE                          1      \n",
              "  InvoiceDate         Price Customer ID Country\n",
              "1 2011-12-09 12:50:00  0.85 12680       France \n",
              "2 2011-12-09 12:50:00  2.10 12680       France \n",
              "3 2011-12-09 12:50:00  4.15 12680       France \n",
              "4 2011-12-09 12:50:00  4.15 12680       France \n",
              "5 2011-12-09 12:50:00  4.95 12680       France \n",
              "6 2011-12-09 12:50:00 18.00 12680       France "
            ]
          },
          "metadata": {}
        }
      ]
    },
    {
      "cell_type": "code",
      "source": [
        "nrow(retail_combined)"
      ],
      "metadata": {
        "colab": {
          "base_uri": "https://localhost:8080/",
          "height": 34
        },
        "id": "tIsX_Uk9e9vo",
        "outputId": "295d4bc2-f448-463a-8834-2e9fb646db13"
      },
      "execution_count": null,
      "outputs": [
        {
          "output_type": "display_data",
          "data": {
            "text/html": [
              "1067371"
            ],
            "text/markdown": "1067371",
            "text/latex": "1067371",
            "text/plain": [
              "[1] 1067371"
            ]
          },
          "metadata": {}
        }
      ]
    },
    {
      "cell_type": "markdown",
      "source": [
        "# Limpeza de dados"
      ],
      "metadata": {
        "id": "F1ATZtQ0lOLt"
      }
    },
    {
      "cell_type": "markdown",
      "source": [
        "### Verificando os valores nulos"
      ],
      "metadata": {
        "id": "qXIMePhK1psg"
      }
    },
    {
      "cell_type": "code",
      "source": [
        "colSums(is.na(retail_combined))"
      ],
      "metadata": {
        "colab": {
          "base_uri": "https://localhost:8080/",
          "height": 34
        },
        "id": "R3cvnFjKPiVP",
        "outputId": "e8c6ccac-9801-4c1e-bf7e-9f9bf07ea7b5"
      },
      "execution_count": null,
      "outputs": [
        {
          "output_type": "display_data",
          "data": {
            "text/html": [
              "<style>\n",
              ".dl-inline {width: auto; margin:0; padding: 0}\n",
              ".dl-inline>dt, .dl-inline>dd {float: none; width: auto; display: inline-block}\n",
              ".dl-inline>dt::after {content: \":\\0020\"; padding-right: .5ex}\n",
              ".dl-inline>dt:not(:first-of-type) {padding-left: .5ex}\n",
              "</style><dl class=dl-inline><dt>Invoice</dt><dd>0</dd><dt>StockCode</dt><dd>0</dd><dt>Description</dt><dd>4382</dd><dt>Quantity</dt><dd>0</dd><dt>InvoiceDate</dt><dd>0</dd><dt>Price</dt><dd>0</dd><dt>Customer ID</dt><dd>243007</dd><dt>Country</dt><dd>0</dd></dl>\n"
            ],
            "text/markdown": "Invoice\n:   0StockCode\n:   0Description\n:   4382Quantity\n:   0InvoiceDate\n:   0Price\n:   0Customer ID\n:   243007Country\n:   0\n\n",
            "text/latex": "\\begin{description*}\n\\item[Invoice] 0\n\\item[StockCode] 0\n\\item[Description] 4382\n\\item[Quantity] 0\n\\item[InvoiceDate] 0\n\\item[Price] 0\n\\item[Customer ID] 243007\n\\item[Country] 0\n\\end{description*}\n",
            "text/plain": [
              "    Invoice   StockCode Description    Quantity InvoiceDate       Price \n",
              "          0           0        4382           0           0           0 \n",
              "Customer ID     Country \n",
              "     243007           0 "
            ]
          },
          "metadata": {}
        }
      ]
    },
    {
      "cell_type": "markdown",
      "source": [
        "Existe muitos valores ausentes nos dados de cliente, infelizmente para minha análise preciso desses valores preenchidos, vou precisar excluir"
      ],
      "metadata": {
        "id": "rJi_eHUhRGWW"
      }
    },
    {
      "cell_type": "code",
      "source": [
        "## Eliminando as linhas como valores ausentes na coluna CustomerID\n",
        "retail_not_na <- drop_na(retail_combined, \"Customer ID\")"
      ],
      "metadata": {
        "id": "Czpcpi5uQH2P"
      },
      "execution_count": null,
      "outputs": []
    },
    {
      "cell_type": "code",
      "source": [
        "colSums(is.na(retail_not_na))"
      ],
      "metadata": {
        "colab": {
          "base_uri": "https://localhost:8080/",
          "height": 34
        },
        "id": "dyjxoncFeykp",
        "outputId": "d8930ded-59fc-4422-cc02-90f5f98d3768"
      },
      "execution_count": null,
      "outputs": [
        {
          "output_type": "display_data",
          "data": {
            "text/html": [
              "<style>\n",
              ".dl-inline {width: auto; margin:0; padding: 0}\n",
              ".dl-inline>dt, .dl-inline>dd {float: none; width: auto; display: inline-block}\n",
              ".dl-inline>dt::after {content: \":\\0020\"; padding-right: .5ex}\n",
              ".dl-inline>dt:not(:first-of-type) {padding-left: .5ex}\n",
              "</style><dl class=dl-inline><dt>Invoice</dt><dd>0</dd><dt>StockCode</dt><dd>0</dd><dt>Description</dt><dd>0</dd><dt>Quantity</dt><dd>0</dd><dt>InvoiceDate</dt><dd>0</dd><dt>Price</dt><dd>0</dd><dt>Customer ID</dt><dd>0</dd><dt>Country</dt><dd>0</dd></dl>\n"
            ],
            "text/markdown": "Invoice\n:   0StockCode\n:   0Description\n:   0Quantity\n:   0InvoiceDate\n:   0Price\n:   0Customer ID\n:   0Country\n:   0\n\n",
            "text/latex": "\\begin{description*}\n\\item[Invoice] 0\n\\item[StockCode] 0\n\\item[Description] 0\n\\item[Quantity] 0\n\\item[InvoiceDate] 0\n\\item[Price] 0\n\\item[Customer ID] 0\n\\item[Country] 0\n\\end{description*}\n",
            "text/plain": [
              "    Invoice   StockCode Description    Quantity InvoiceDate       Price \n",
              "          0           0           0           0           0           0 \n",
              "Customer ID     Country \n",
              "          0           0 "
            ]
          },
          "metadata": {}
        }
      ]
    },
    {
      "cell_type": "code",
      "source": [
        "nrow(retail_not_na)"
      ],
      "metadata": {
        "colab": {
          "base_uri": "https://localhost:8080/",
          "height": 34
        },
        "id": "ysC9vIzfe7BB",
        "outputId": "74cb9cc5-c261-467f-8fad-5869cc49f62c"
      },
      "execution_count": null,
      "outputs": [
        {
          "output_type": "display_data",
          "data": {
            "text/html": [
              "824364"
            ],
            "text/markdown": "824364",
            "text/latex": "824364",
            "text/plain": [
              "[1] 824364"
            ]
          },
          "metadata": {}
        }
      ]
    },
    {
      "cell_type": "markdown",
      "source": [
        "### Eliminando os valores duplicados"
      ],
      "metadata": {
        "id": "vD3d7Ohq1mP5"
      }
    },
    {
      "cell_type": "code",
      "source": [
        "## Verificando a qtd de linhas duplicadas\n",
        "duplicated_rows <- retail_not_na[duplicated(retail_not_na), ]\n",
        "\n",
        "\n",
        "nrow(duplicated_rows)"
      ],
      "metadata": {
        "colab": {
          "base_uri": "https://localhost:8080/",
          "height": 34
        },
        "id": "okUHNqD2fGLY",
        "outputId": "9937c3b3-8e69-4f06-cbe7-e72a38df5617"
      },
      "execution_count": null,
      "outputs": [
        {
          "output_type": "display_data",
          "data": {
            "text/html": [
              "26479"
            ],
            "text/markdown": "26479",
            "text/latex": "26479",
            "text/plain": [
              "[1] 26479"
            ]
          },
          "metadata": {}
        }
      ]
    },
    {
      "cell_type": "code",
      "source": [
        "print(duplicated_rows)"
      ],
      "metadata": {
        "colab": {
          "base_uri": "https://localhost:8080/"
        },
        "id": "OKsP3Q4I69zJ",
        "outputId": "29b5b64c-c8bc-4151-9134-0cc179ab1bb8"
      },
      "execution_count": null,
      "outputs": [
        {
          "output_type": "stream",
          "name": "stdout",
          "text": [
            "\u001b[90m# A tibble: 26,479 × 8\u001b[39m\n",
            "   Invoice StockCode Description              Quantity InvoiceDate         Price\n",
            "   \u001b[3m\u001b[90m<chr>\u001b[39m\u001b[23m   \u001b[3m\u001b[90m<chr>\u001b[39m\u001b[23m     \u001b[3m\u001b[90m<chr>\u001b[39m\u001b[23m                       \u001b[3m\u001b[90m<dbl>\u001b[39m\u001b[23m \u001b[3m\u001b[90m<dttm>\u001b[39m\u001b[23m              \u001b[3m\u001b[90m<dbl>\u001b[39m\u001b[23m\n",
            "\u001b[90m 1\u001b[39m 489517  21912     VINTAGE SNAKES & LADDERS        1 2009-12-01 \u001b[90m11:34:00\u001b[39m  3.75\n",
            "\u001b[90m 2\u001b[39m 489517  22130     PARTY CONE CHRISTMAS DE…        6 2009-12-01 \u001b[90m11:34:00\u001b[39m  0.85\n",
            "\u001b[90m 3\u001b[39m 489517  22319     HAIRCLIPS FORTIES FABRI…       12 2009-12-01 \u001b[90m11:34:00\u001b[39m  0.65\n",
            "\u001b[90m 4\u001b[39m 489517  21913     VINTAGE SEASIDE JIGSAW …        1 2009-12-01 \u001b[90m11:34:00\u001b[39m  3.75\n",
            "\u001b[90m 5\u001b[39m 489517  21821     GLITTER STAR GARLAND WI…        1 2009-12-01 \u001b[90m11:34:00\u001b[39m  3.75\n",
            "\u001b[90m 6\u001b[39m 489517  84951A    S/4 PISTACHIO LOVEBIRD …        1 2009-12-01 \u001b[90m11:34:00\u001b[39m  2.55\n",
            "\u001b[90m 7\u001b[39m 489517  21491     SET OF THREE VINTAGE GI…        1 2009-12-01 \u001b[90m11:34:00\u001b[39m  1.95\n",
            "\u001b[90m 8\u001b[39m 489517  21912     VINTAGE SNAKES & LADDERS        1 2009-12-01 \u001b[90m11:34:00\u001b[39m  3.75\n",
            "\u001b[90m 9\u001b[39m 489529  22028     PENNY FARTHING BIRTHDAY…       12 2009-12-01 \u001b[90m11:51:00\u001b[39m  0.42\n",
            "\u001b[90m10\u001b[39m 489529  22036     DINOSAUR BIRTHDAY CARD         12 2009-12-01 \u001b[90m11:51:00\u001b[39m  0.42\n",
            "\u001b[90m# ℹ 26,469 more rows\u001b[39m\n",
            "\u001b[90m# ℹ 2 more variables: `Customer ID` <dbl>, Country <chr>\u001b[39m\n"
          ]
        }
      ]
    },
    {
      "cell_type": "code",
      "source": [
        "# Eliminar as duplicadas\n",
        "retail_unique <- unique(retail_not_na)"
      ],
      "metadata": {
        "id": "_e3x7xImkcwN"
      },
      "execution_count": null,
      "outputs": []
    },
    {
      "cell_type": "code",
      "source": [
        "print(retail_unique)"
      ],
      "metadata": {
        "colab": {
          "base_uri": "https://localhost:8080/"
        },
        "id": "gBJwWEHSksAc",
        "outputId": "2135b0d1-f08c-4e03-dad2-be85906b5864"
      },
      "execution_count": null,
      "outputs": [
        {
          "output_type": "stream",
          "name": "stdout",
          "text": [
            "\u001b[90m# A tibble: 797,885 × 8\u001b[39m\n",
            "   Invoice StockCode Description              Quantity InvoiceDate         Price\n",
            "   \u001b[3m\u001b[90m<chr>\u001b[39m\u001b[23m   \u001b[3m\u001b[90m<chr>\u001b[39m\u001b[23m     \u001b[3m\u001b[90m<chr>\u001b[39m\u001b[23m                       \u001b[3m\u001b[90m<dbl>\u001b[39m\u001b[23m \u001b[3m\u001b[90m<dttm>\u001b[39m\u001b[23m              \u001b[3m\u001b[90m<dbl>\u001b[39m\u001b[23m\n",
            "\u001b[90m 1\u001b[39m 489434  85048     \u001b[90m\"\u001b[39m15CM CHRISTMAS GLASS B…       12 2009-12-01 \u001b[90m07:45:00\u001b[39m  6.95\n",
            "\u001b[90m 2\u001b[39m 489434  79323P    \u001b[90m\"\u001b[39mPINK CHERRY LIGHTS\u001b[90m\"\u001b[39m           12 2009-12-01 \u001b[90m07:45:00\u001b[39m  6.75\n",
            "\u001b[90m 3\u001b[39m 489434  79323W    \u001b[90m\"\u001b[39mWHITE CHERRY LIGHTS\u001b[90m\"\u001b[39m          12 2009-12-01 \u001b[90m07:45:00\u001b[39m  6.75\n",
            "\u001b[90m 4\u001b[39m 489434  22041     \u001b[90m\"\u001b[39mRECORD FRAME 7\\\" SINGL…       48 2009-12-01 \u001b[90m07:45:00\u001b[39m  2.1 \n",
            "\u001b[90m 5\u001b[39m 489434  21232     \u001b[90m\"\u001b[39mSTRAWBERRY CERAMIC TRI…       24 2009-12-01 \u001b[90m07:45:00\u001b[39m  1.25\n",
            "\u001b[90m 6\u001b[39m 489434  22064     \u001b[90m\"\u001b[39mPINK DOUGHNUT TRINKET …       24 2009-12-01 \u001b[90m07:45:00\u001b[39m  1.65\n",
            "\u001b[90m 7\u001b[39m 489434  21871     \u001b[90m\"\u001b[39mSAVE THE PLANET MUG\u001b[90m\"\u001b[39m          24 2009-12-01 \u001b[90m07:45:00\u001b[39m  1.25\n",
            "\u001b[90m 8\u001b[39m 489434  21523     \u001b[90m\"\u001b[39mFANCY FONT HOME SWEET …       10 2009-12-01 \u001b[90m07:45:00\u001b[39m  5.95\n",
            "\u001b[90m 9\u001b[39m 489435  22350     \u001b[90m\"\u001b[39mCAT BOWL\u001b[90m\"\u001b[39m                     12 2009-12-01 \u001b[90m07:46:00\u001b[39m  2.55\n",
            "\u001b[90m10\u001b[39m 489435  22349     \u001b[90m\"\u001b[39mDOG BOWL , CHASING BAL…       12 2009-12-01 \u001b[90m07:46:00\u001b[39m  3.75\n",
            "\u001b[90m# ℹ 797,875 more rows\u001b[39m\n",
            "\u001b[90m# ℹ 2 more variables: `Customer ID` <dbl>, Country <chr>\u001b[39m\n"
          ]
        }
      ]
    },
    {
      "cell_type": "code",
      "source": [
        "summary(retail_unique)"
      ],
      "metadata": {
        "colab": {
          "base_uri": "https://localhost:8080/",
          "height": 382
        },
        "id": "2ES5aPRTla1K",
        "outputId": "f7fc9469-7208-4039-854d-1f3c2ac67154"
      },
      "execution_count": null,
      "outputs": [
        {
          "output_type": "display_data",
          "data": {
            "text/plain": [
              "   Invoice           StockCode         Description           Quantity       \n",
              " Length:797885      Length:797885      Length:797885      Min.   :-80995.0  \n",
              " Class :character   Class :character   Class :character   1st Qu.:     2.0  \n",
              " Mode  :character   Mode  :character   Mode  :character   Median :     5.0  \n",
              "                                                          Mean   :    12.6  \n",
              "                                                          3rd Qu.:    12.0  \n",
              "                                                          Max.   : 80995.0  \n",
              "  InvoiceDate                         Price           Customer ID   \n",
              " Min.   :2009-12-01 07:45:00.00   Min.   :    0.00   Min.   :12346  \n",
              " 1st Qu.:2010-07-02 09:47:00.00   1st Qu.:    1.25   1st Qu.:13964  \n",
              " Median :2010-12-02 12:33:00.00   Median :    1.95   Median :15228  \n",
              " Mean   :2011-01-02 13:17:34.14   Mean   :    3.70   Mean   :15313  \n",
              " 3rd Qu.:2011-07-31 15:50:00.00   3rd Qu.:    3.75   3rd Qu.:16788  \n",
              " Max.   :2011-12-09 12:50:00.00   Max.   :38970.00   Max.   :18287  \n",
              "   Country         \n",
              " Length:797885     \n",
              " Class :character  \n",
              " Mode  :character  \n",
              "                   \n",
              "                   \n",
              "                   "
            ]
          },
          "metadata": {}
        }
      ]
    },
    {
      "cell_type": "markdown",
      "source": [
        "Existe preço de compra com valores 0 e quantidades de produtos com valores negativos, provavelmente são extornos, não preciso desses dados já que quero analisar apenas as compras realizadas\n"
      ],
      "metadata": {
        "id": "lhPOAF_tldsz"
      }
    },
    {
      "cell_type": "code",
      "source": [
        "# Eliminar os valores negativos\n",
        "retail_qtd_postivo <- retail_unique %>%\n",
        "  filter(retail_unique$Quantity >= 0)"
      ],
      "metadata": {
        "id": "nW7RcJfYmXDG"
      },
      "execution_count": null,
      "outputs": []
    },
    {
      "cell_type": "code",
      "source": [
        "nrow(retail_qtd_postivo)"
      ],
      "metadata": {
        "colab": {
          "base_uri": "https://localhost:8080/",
          "height": 34
        },
        "id": "Gz86BAWZ8K3P",
        "outputId": "d99a517b-a497-4e8b-94ba-b9c74b7db0b8"
      },
      "execution_count": null,
      "outputs": [
        {
          "output_type": "display_data",
          "data": {
            "text/html": [
              "779495"
            ],
            "text/markdown": "779495",
            "text/latex": "779495",
            "text/plain": [
              "[1] 779495"
            ]
          },
          "metadata": {}
        }
      ]
    },
    {
      "cell_type": "code",
      "source": [
        "# Eliminar os valores zeros\n",
        "retail_price_sem_0 <- retail_qtd_postivo %>%\n",
        "  filter(retail_qtd_postivo$Price > 0)"
      ],
      "metadata": {
        "id": "XMHHBcMypF2Q"
      },
      "execution_count": null,
      "outputs": []
    },
    {
      "cell_type": "code",
      "source": [
        "nrow(retail_price_sem_0)"
      ],
      "metadata": {
        "colab": {
          "base_uri": "https://localhost:8080/",
          "height": 34
        },
        "id": "hI9mYsI58PkZ",
        "outputId": "a3816b28-ef4d-48c0-a451-f7a2f7cb3a5c"
      },
      "execution_count": null,
      "outputs": [
        {
          "output_type": "display_data",
          "data": {
            "text/html": [
              "779425"
            ],
            "text/markdown": "779425",
            "text/latex": "779425",
            "text/plain": [
              "[1] 779425"
            ]
          },
          "metadata": {}
        }
      ]
    },
    {
      "cell_type": "markdown",
      "source": [
        "### Verificando os StockCode"
      ],
      "metadata": {
        "id": "1evgE_Zn10Ng"
      }
    },
    {
      "cell_type": "markdown",
      "source": [
        "Verificar se há alguma sujeira nos Códigos de Estoque"
      ],
      "metadata": {
        "id": "4_nLPJb7_eeO"
      }
    },
    {
      "cell_type": "code",
      "source": [
        "# Verificando os valores únicos da coluna\n",
        "unique_stock_codes <- unique(retail_price_sem_0$StockCode)\n",
        "\n",
        "# Ordenar os códigos de estoque em ordem alfabética decrescente\n",
        "sorted_stock_codes <- sort(unique_stock_codes, decreasing = TRUE)\n",
        "\n",
        "# Imprimir os códigos de estoque ordenados\n",
        "print(sorted_stock_codes[1:150])"
      ],
      "metadata": {
        "colab": {
          "base_uri": "https://localhost:8080/"
        },
        "id": "iMwjVMpw2xjc",
        "outputId": "75fdc46b-7199-41b0-ba2a-9ff624e898bf"
      },
      "execution_count": null,
      "outputs": [
        {
          "output_type": "stream",
          "name": "stdout",
          "text": [
            "  [1] \"TEST002\"      \"TEST001\"      \"SP1002\"       \"POST\"         \"PADS\"        \n",
            "  [6] \"M\"            \"DOT\"          \"D\"            \"C2\"           \"BANK CHARGES\"\n",
            " [11] \"ADJUST2\"      \"ADJUST\"       \"90214Z\"       \"90214Y\"       \"90214W\"      \n",
            " [16] \"90214V\"       \"90214U\"       \"90214T\"       \"90214S\"       \"90214R\"      \n",
            " [21] \"90214P\"       \"90214O\"       \"90214N\"       \"90214M\"       \"90214L\"      \n",
            " [26] \"90214K\"       \"90214J\"       \"90214I\"       \"90214H\"       \"90214G\"      \n",
            " [31] \"90214F\"       \"90214E\"       \"90214D\"       \"90214C\"       \"90214B\"      \n",
            " [36] \"90214A\"       \"90212C\"       \"90212B\"       \"90211B\"       \"90211A\"      \n",
            " [41] \"90210D\"       \"90210C\"       \"90210B\"       \"90210A\"       \"90209C\"      \n",
            " [46] \"90209B\"       \"90209A\"       \"90208\"        \"90206C\"       \"90206A\"      \n",
            " [51] \"90205C\"       \"90205A\"       \"90204\"        \"90203\"        \"90202D\"      \n",
            " [56] \"90202C\"       \"90202B\"       \"90202A\"       \"90201D\"       \"90201C\"      \n",
            " [61] \"90201B\"       \"90201A\"       \"90200E\"       \"90200D\"       \"90200C\"      \n",
            " [66] \"90200B\"       \"90200A\"       \"90199D\"       \"90199C\"       \"90199B\"      \n",
            " [71] \"90199A\"       \"90198B\"       \"90198A\"       \"90197D\"       \"90197B\"      \n",
            " [76] \"90196B\"       \"90196A\"       \"90195B\"       \"90195A\"       \"90194\"       \n",
            " [81] \"90192\"        \"90191\"        \"90190C\"       \"90190B\"       \"90190A\"      \n",
            " [86] \"90189B\"       \"90189A\"       \"90188\"        \"90187B\"       \"90187A\"      \n",
            " [91] \"90186B\"       \"90186A\"       \"90185D\"       \"90185C\"       \"90185B\"      \n",
            " [96] \"90185A\"       \"90184C\"       \"90184B\"       \"90184A\"       \"90183C\"      \n",
            "[101] \"90183A\"       \"90182C\"       \"90181A\"       \"90180B\"       \"90180A\"      \n",
            "[106] \"90179C\"       \"90179B\"       \"90179A\"       \"90178B\"       \"90178A\"      \n",
            "[111] \"90177E\"       \"90177D\"       \"90177C\"       \"90177B\"       \"90177A\"      \n",
            "[116] \"90176E\"       \"90176D\"       \"90176C\"       \"90176B\"       \"90176A\"      \n",
            "[121] \"90175D\"       \"90175C\"       \"90175B\"       \"90175A\"       \"90174\"       \n",
            "[126] \"90173\"        \"90171\"        \"90170\"        \"90169\"        \"90168\"       \n",
            "[131] \"90167\"        \"90166\"        \"90165B\"       \"90165A\"       \"90164B\"      \n",
            "[136] \"90164A\"       \"90163B\"       \"90163A\"       \"90162D\"       \"90162C\"      \n",
            "[141] \"90162B\"       \"90162A\"       \"90161D\"       \"90161C\"       \"90161B\"      \n",
            "[146] \"90161A\"       \"90160D\"       \"90160C\"       \"90160B\"       \"90160A\"      \n"
          ]
        }
      ]
    },
    {
      "cell_type": "markdown",
      "source": [
        "Há alguns códigos de estoque 'sujos' em que os pedidos não foram os padrões de clientes"
      ],
      "metadata": {
        "id": "XfT1P7wr3DfJ"
      }
    },
    {
      "cell_type": "code",
      "source": [
        "# Palavras sujas\n",
        "dirty_words <- c(\"M\", \"D\", \"C2\", \"DOT\", \"POST\", \"PADS\",\"TEST002\",\"TEST001\",\"SP1002\",\"BANK CHARGES\",\"ADJUST2\",\"ADJUST\" )\n",
        "\n",
        "# Condição para os registros que você deseja remover\n",
        "conditions_to_remove <- grepl(paste(dirty_words, collapse=\"|\"), retail_price_sem_0$StockCode)\n",
        "\n",
        "# Subconjunto do DataFrame excluindo os registros que contêm as palavras sujas\n",
        "cleaned_data <- retail_price_sem_0[!conditions_to_remove, ]\n",
        "\n"
      ],
      "metadata": {
        "id": "WuihOthFrwRg"
      },
      "execution_count": null,
      "outputs": []
    },
    {
      "cell_type": "code",
      "source": [
        "## Verificando se a limpeza foi feita\n",
        "unique_stock_codes <- unique(cleaned_data$StockCode)\n",
        "\n",
        "# Ordenar os códigos de estoque em ordem alfabética decrescente\n",
        "sorted_stock_codes <- sort(unique_stock_codes, decreasing = TRUE)\n",
        "\n",
        "# Imprimir os códigos de estoque ordenados\n",
        "print(sorted_stock_codes[1:150])\n"
      ],
      "metadata": {
        "id": "ic122C8K4RAA",
        "colab": {
          "base_uri": "https://localhost:8080/"
        },
        "outputId": "10735ece-9db1-4f31-f81c-5ac255834785"
      },
      "execution_count": null,
      "outputs": [
        {
          "output_type": "stream",
          "name": "stdout",
          "text": [
            "  [1] \"90214Z\" \"90214Y\" \"90214W\" \"90214V\" \"90214U\" \"90214T\" \"90214S\" \"90214R\"\n",
            "  [9] \"90214P\" \"90214O\" \"90214N\" \"90214L\" \"90214K\" \"90214J\" \"90214I\" \"90214H\"\n",
            " [17] \"90214G\" \"90214F\" \"90214E\" \"90214C\" \"90214B\" \"90214A\" \"90212C\" \"90212B\"\n",
            " [25] \"90211B\" \"90211A\" \"90210C\" \"90210B\" \"90210A\" \"90209C\" \"90209B\" \"90209A\"\n",
            " [33] \"90208\"  \"90206C\" \"90206A\" \"90205C\" \"90205A\" \"90204\"  \"90203\"  \"90202C\"\n",
            " [41] \"90202B\" \"90202A\" \"90201C\" \"90201B\" \"90201A\" \"90200E\" \"90200C\" \"90200B\"\n",
            " [49] \"90200A\" \"90199C\" \"90199B\" \"90199A\" \"90198B\" \"90198A\" \"90197B\" \"90196B\"\n",
            " [57] \"90196A\" \"90195B\" \"90195A\" \"90194\"  \"90192\"  \"90191\"  \"90190C\" \"90190B\"\n",
            " [65] \"90190A\" \"90189B\" \"90189A\" \"90188\"  \"90187B\" \"90187A\" \"90186B\" \"90186A\"\n",
            " [73] \"90185C\" \"90185B\" \"90185A\" \"90184C\" \"90184B\" \"90184A\" \"90183C\" \"90183A\"\n",
            " [81] \"90182C\" \"90181A\" \"90180B\" \"90180A\" \"90179C\" \"90179B\" \"90179A\" \"90178B\"\n",
            " [89] \"90178A\" \"90177E\" \"90177C\" \"90177B\" \"90177A\" \"90176E\" \"90176C\" \"90176B\"\n",
            " [97] \"90176A\" \"90175C\" \"90175B\" \"90175A\" \"90174\"  \"90173\"  \"90171\"  \"90170\" \n",
            "[105] \"90169\"  \"90168\"  \"90167\"  \"90166\"  \"90165B\" \"90165A\" \"90164B\" \"90164A\"\n",
            "[113] \"90163B\" \"90163A\" \"90162C\" \"90162B\" \"90162A\" \"90161C\" \"90161B\" \"90161A\"\n",
            "[121] \"90160C\" \"90160B\" \"90160A\" \"90159\"  \"90158\"  \"90157\"  \"90156\"  \"90155\" \n",
            "[129] \"90154\"  \"90152C\" \"90152B\" \"90152A\" \"90151\"  \"90150\"  \"90149\"  \"90148\" \n",
            "[137] \"90147\"  \"90146\"  \"90145\"  \"90144\"  \"90143\"  \"90141E\" \"90141C\" \"90141B\"\n",
            "[145] \"90141A\" \"90140\"  \"90139\"  \"90138\"  \"90137\"  \"90136\" \n"
          ]
        }
      ]
    },
    {
      "cell_type": "markdown",
      "source": [
        "Dados limpos"
      ],
      "metadata": {
        "id": "HUXX7SBm_Avn"
      }
    },
    {
      "cell_type": "code",
      "source": [
        "nrow(cleaned_data)"
      ],
      "metadata": {
        "colab": {
          "base_uri": "https://localhost:8080/",
          "height": 34
        },
        "id": "D5pr0GdF4uyj",
        "outputId": "1157c13b-0ca6-47cf-b7f2-fcc64b66d4d1"
      },
      "execution_count": null,
      "outputs": [
        {
          "output_type": "display_data",
          "data": {
            "text/html": [
              "769632"
            ],
            "text/markdown": "769632",
            "text/latex": "769632",
            "text/plain": [
              "[1] 769632"
            ]
          },
          "metadata": {}
        }
      ]
    },
    {
      "cell_type": "markdown",
      "source": [
        "# Registros de limpeza"
      ],
      "metadata": {
        "id": "611i51xP4m8y"
      }
    },
    {
      "cell_type": "markdown",
      "source": [
        "Quantidade de Duplicatas removidas - 26479\n",
        "\n",
        "Valores nulos em CustomerID removidos - 243007\n",
        "\n",
        "Valores negativos na coluna Quantity - 18390\n",
        "\n",
        "Valores negativos na coluna Price - 70\n",
        "\n",
        "Valores sujos na coluna StockCode - 9793\n",
        "\n",
        "Total de linhas removidas no dataframe - 297.739 de 1.067.371"
      ],
      "metadata": {
        "id": "8u0sQVTL6Zah"
      }
    },
    {
      "cell_type": "markdown",
      "source": [
        "Em um cenário real essa quantidade de perdas linhas é preocupante para a análise, mas nesse caso não tem como pedir pra alguém 'arrumar' o dataset, prosseguirei assim"
      ],
      "metadata": {
        "id": "81ra4JhF-FDl"
      }
    },
    {
      "cell_type": "markdown",
      "source": [
        "# Salvando o novo dataset"
      ],
      "metadata": {
        "id": "ofNbAlnGPL1a"
      }
    },
    {
      "cell_type": "code",
      "source": [
        "## Salvando um novo dataset limpo\n",
        "retail <- cleaned_data"
      ],
      "metadata": {
        "id": "J5oj8NKKqb-7"
      },
      "execution_count": null,
      "outputs": []
    },
    {
      "cell_type": "code",
      "source": [
        "# Baixar o Excel\n",
        "writexl::write_xlsx(retail, \"retail.xlsx\")\n"
      ],
      "metadata": {
        "id": "2bO6HzxOqmbD"
      },
      "execution_count": null,
      "outputs": []
    },
    {
      "cell_type": "code",
      "source": [
        "retail_2009_2011 <-readxl::read_excel(\"/content/retail.xlsx\")\n",
        "\n",
        "retail <- retail_2009_2011"
      ],
      "metadata": {
        "id": "WcbNh33fFprm"
      },
      "execution_count": null,
      "outputs": []
    },
    {
      "cell_type": "markdown",
      "source": [
        "# Análise Descritiva"
      ],
      "metadata": {
        "id": "ytWYqvLrtdxB"
      }
    },
    {
      "cell_type": "markdown",
      "source": [
        "## Descrições básicas do dataframe"
      ],
      "metadata": {
        "id": "jnt4dLVlt0dR"
      }
    },
    {
      "cell_type": "code",
      "source": [
        "print(paste(\"O dataframe possui\", nrow(retail), \"linhas e\", ncol(retail), \"colunas.\"))"
      ],
      "metadata": {
        "colab": {
          "base_uri": "https://localhost:8080/"
        },
        "id": "SHP6AkflG2lW",
        "outputId": "1046ad0f-5a64-4bb9-c4f5-95da9061f7f9"
      },
      "execution_count": null,
      "outputs": [
        {
          "output_type": "stream",
          "name": "stdout",
          "text": [
            "[1] \"O dataframe possui 769632 linhas e 8 colunas.\"\n"
          ]
        }
      ]
    },
    {
      "cell_type": "code",
      "source": [
        "### Qual é o intervalo de datas ?\n",
        "print(paste('Date range:', min(retail$InvoiceDate), '-', max(retail$InvoiceDate)))"
      ],
      "metadata": {
        "colab": {
          "base_uri": "https://localhost:8080/"
        },
        "id": "WtKkA1s2G7TV",
        "outputId": "a661c9a3-97a4-4ef5-f2d4-cde8ed6bafd2"
      },
      "execution_count": null,
      "outputs": [
        {
          "output_type": "stream",
          "name": "stdout",
          "text": [
            "[1] \"Date range: 2009-12-01 07:45:00 - 2011-12-09 12:50:00\"\n"
          ]
        }
      ]
    },
    {
      "cell_type": "markdown",
      "source": [
        "## Valores únicos por coluna"
      ],
      "metadata": {
        "id": "nYci7eGdKQXE"
      }
    },
    {
      "cell_type": "code",
      "source": [
        "# Criar um dataframe vazio para armazenar os resultados\n",
        "contagem <- data.frame(Variavel = character(), Contagens_Distintas = numeric(), stringsAsFactors = FALSE)\n",
        "\n",
        "# Calcular a contagem de valores distintos e armazenar no dataframe 'contagem'\n",
        "for (coluna in names(retail)) {\n",
        "\n",
        "  dados <- data.frame(Variavel = coluna, Contagens_Distintas = length(unique(retail[[coluna]])), stringsAsFactors = FALSE)\n",
        "  contagem <- rbind(contagem, dados)\n",
        "}\n",
        "\n",
        "\n",
        "print(contagem)"
      ],
      "metadata": {
        "colab": {
          "base_uri": "https://localhost:8080/"
        },
        "id": "Tjb-gIiNKGy8",
        "outputId": "160fb69d-febe-4350-918d-96364f9e2310"
      },
      "execution_count": null,
      "outputs": [
        {
          "output_type": "stream",
          "name": "stdout",
          "text": [
            "     Variavel Contagens_Distintas\n",
            "1     Invoice               36557\n",
            "2   StockCode                4488\n",
            "3 Description                5087\n",
            "4    Quantity                 433\n",
            "5 InvoiceDate               34240\n",
            "6       Price                 451\n",
            "7 Customer ID                5850\n",
            "8     Country                  41\n"
          ]
        }
      ]
    },
    {
      "cell_type": "markdown",
      "source": [
        "## Análise estatística das variáveis"
      ],
      "metadata": {
        "id": "IgZdVTOeKavk"
      }
    },
    {
      "cell_type": "code",
      "source": [
        "summary(retail)"
      ],
      "metadata": {
        "colab": {
          "base_uri": "https://localhost:8080/",
          "height": 382
        },
        "id": "AbCePP3xtc9Z",
        "outputId": "48f5032c-c519-4fab-ce65-86048820ee5c"
      },
      "execution_count": null,
      "outputs": [
        {
          "output_type": "display_data",
          "data": {
            "text/plain": [
              "   Invoice           StockCode         Description           Quantity       \n",
              " Length:769632      Length:769632      Length:769632      Min.   :    1.00  \n",
              " Class :character   Class :character   Class :character   1st Qu.:    2.00  \n",
              " Mode  :character   Mode  :character   Mode  :character   Median :    6.00  \n",
              "                                                          Mean   :   13.54  \n",
              "                                                          3rd Qu.:   12.00  \n",
              "                                                          Max.   :80995.00  \n",
              "  InvoiceDate                         Price          Customer ID   \n",
              " Min.   :2009-12-01 07:45:00.00   Min.   :  0.030   Min.   :12346  \n",
              " 1st Qu.:2010-07-05 09:58:00.00   1st Qu.:  1.250   1st Qu.:13979  \n",
              " Median :2010-12-02 19:18:00.00   Median :  1.950   Median :15252  \n",
              " Mean   :2011-01-03 16:36:56.30   Mean   :  2.938   Mean   :15326  \n",
              " 3rd Qu.:2011-08-02 10:19:00.00   3rd Qu.:  3.750   3rd Qu.:16794  \n",
              " Max.   :2011-12-09 12:50:00.00   Max.   :649.500   Max.   :18287  \n",
              "   Country         \n",
              " Length:769632     \n",
              " Class :character  \n",
              " Mode  :character  \n",
              "                   \n",
              "                   \n",
              "                   "
            ]
          },
          "metadata": {}
        }
      ]
    },
    {
      "cell_type": "markdown",
      "source": [
        "As variáveis numéricas possuem discrepancias em suas médias e medianas o que acarreta alguns outliers"
      ],
      "metadata": {
        "id": "KpPfYjamuCCq"
      }
    },
    {
      "cell_type": "markdown",
      "source": [
        "## Verificando Outliers"
      ],
      "metadata": {
        "id": "rMr-F9FfvqjZ"
      }
    },
    {
      "cell_type": "code",
      "source": [
        "# Função para identificar outliers em uma variável\n",
        "detect_outliers <- function(column) {\n",
        "  if (is.numeric(column)) {\n",
        "    Q1 <- quantile(column, 0.25, na.rm = TRUE)\n",
        "    Q3 <- quantile(column, 0.75, na.rm = TRUE)\n",
        "    IQR <- Q3 - Q1\n",
        "    lower_bound <- Q1 - 1.5 * IQR\n",
        "    upper_bound <- Q3 + 1.5 * IQR\n",
        "    outliers <- column[(column < lower_bound) | (column > upper_bound)]\n",
        "    return(outliers)\n",
        "  } else {\n",
        "    return(NULL)\n",
        "  }\n",
        "}\n",
        "\n",
        "# Listando para armazenar os outliers de cada variável\n",
        "outliers_list <- list()\n",
        "\n",
        "# Loop através das variáveis numéricas\n",
        "for (col in names(retail)) {\n",
        "  if (!(col %in% c())) {\n",
        "    outliers <- detect_outliers(retail[[col]])\n",
        "    if (!is.null(outliers) && length(outliers) > 0) {\n",
        "      outliers_list[[col]] <- outliers\n",
        "    }\n",
        "  }\n",
        "}\n",
        "\n",
        "# Criando uma lista de dataframes com os outliers\n",
        "outliers_df <- stack(outliers_list)\n",
        "\n",
        "# Renomeando as colunas\n",
        "colnames(outliers_df) <- c(\"Outlier\", \"Variable\")\n",
        "\n",
        "# Contando quantos outliers cada variável possui\n",
        "contagem_outliers <- table(outliers_df$Variable)\n",
        "\n",
        "# Criando um DataFrame com a contagem de outliers para cada variável\n",
        "contagem_outliers_df <- data.frame(Variavel = names(contagem_outliers), Quantidade_de_Outliers = as.numeric(contagem_outliers))\n",
        "\n",
        "# Exibindo a contagem de outliers para cada variável\n",
        "print(contagem_outliers_df)"
      ],
      "metadata": {
        "colab": {
          "base_uri": "https://localhost:8080/"
        },
        "id": "aNwKV-qsqDLF",
        "outputId": "24606cab-14e0-47ad-ce40-9b55c04412d1"
      },
      "execution_count": null,
      "outputs": [
        {
          "output_type": "stream",
          "name": "stdout",
          "text": [
            "  Variavel Quantidade_de_Outliers\n",
            "1 Quantity                  50751\n",
            "2    Price                  62907\n"
          ]
        }
      ]
    },
    {
      "cell_type": "code",
      "source": [
        "# Criando um gráfico de barras com ggplot2\n",
        "grafico <- ggplot(contagem_outliers_df, aes(x = Variavel, y = Quantidade_de_Outliers, fill = Variavel, label = Quantidade_de_Outliers)) +\n",
        "  geom_bar(stat = \"identity\") +\n",
        "  labs(title = \"Distribuição dos Outliers nas Colunas do DataFrame\",\n",
        "       y = \"Quantidade de Outliers\") +\n",
        "  theme_minimal() +\n",
        "  theme(axis.text.x = element_text(angle = 45, hjust = 1)) +\n",
        "  geom_text(position = position_stack(vjust = 0.8))\n",
        "\n",
        "\n",
        "print(grafico)"
      ],
      "metadata": {
        "colab": {
          "base_uri": "https://localhost:8080/",
          "height": 437
        },
        "id": "cfVjU1t0HuSA",
        "outputId": "c11d4749-3780-4e1c-ed72-2361327c7907"
      },
      "execution_count": null,
      "outputs": [
        {
          "output_type": "display_data",
          "data": {
            "text/plain": [
              "plot without title"
            ],
            "image/png": "[encoded data removed]"
          },
          "metadata": {
            "image/png": {
              "width": 420,
              "height": 420
            }
          }
        }
      ]
    },
    {
      "cell_type": "code",
      "source": [
        "# Selecionando apenas as colunas relevantes do seu dataframe\n",
        "numeric_data <- retail %>%\n",
        "  select(Price, Quantity)\n",
        "\n",
        "# Mudando o formato dos dados para o gráfico\n",
        "numeric_data_long <- numeric_data %>%\n",
        "  pivot_longer(everything(), names_to = \"Variable\", values_to = \"Value\")\n",
        "\n",
        "# Criando um boxplot único\n",
        "boxplot_combined <- ggplot(data = numeric_data_long, aes(x = Variable, y = Value)) +\n",
        "  geom_boxplot() +\n",
        "  ggtitle(\"Boxplot - Price e Quantity\")\n",
        "\n",
        "\n",
        "print(boxplot_combined)"
      ],
      "metadata": {
        "colab": {
          "base_uri": "https://localhost:8080/",
          "height": 437
        },
        "id": "43U2zdycH23V",
        "outputId": "a8d1bc53-b12a-40dd-ff44-2a2adecd123b"
      },
      "execution_count": null,
      "outputs": [
        {
          "output_type": "display_data",
          "data": {
            "text/plain": [
              "plot without title"
            ],
            "image/png": "[encoded data removed]"
          },
          "metadata": {
            "image/png": {
              "width": 420,
              "height": 420
            }
          }
        }
      ]
    },
    {
      "cell_type": "markdown",
      "source": [
        "Tem duas compras com volume de compras extremamente grande"
      ],
      "metadata": {
        "id": "qLYvr4bOIhMu"
      }
    },
    {
      "cell_type": "code",
      "source": [
        "# Verificando os maiores valores de quantidades\n",
        "Max_quantity <- retail %>%\n",
        "  arrange(desc(Quantity))\n",
        "\n",
        "head(Max_quantity)"
      ],
      "metadata": {
        "colab": {
          "base_uri": "https://localhost:8080/",
          "height": 286
        },
        "id": "G11n56AKJFct",
        "outputId": "e53a1f32-ae78-4c03-9c2d-4f6045c3752a"
      },
      "execution_count": null,
      "outputs": [
        {
          "output_type": "display_data",
          "data": {
            "text/html": [
              "<table class=\"dataframe\">\n",
              "<caption>A tibble: 6 × 8</caption>\n",
              "<thead>\n",
              "\t<tr><th scope=col>Invoice</th><th scope=col>StockCode</th><th scope=col>Description</th><th scope=col>Quantity</th><th scope=col>InvoiceDate</th><th scope=col>Price</th><th scope=col>Customer ID</th><th scope=col>Country</th></tr>\n",
              "\t<tr><th scope=col>&lt;chr&gt;</th><th scope=col>&lt;chr&gt;</th><th scope=col>&lt;chr&gt;</th><th scope=col>&lt;dbl&gt;</th><th scope=col>&lt;dttm&gt;</th><th scope=col>&lt;dbl&gt;</th><th scope=col>&lt;dbl&gt;</th><th scope=col>&lt;chr&gt;</th></tr>\n",
              "</thead>\n",
              "<tbody>\n",
              "\t<tr><td>581483</td><td>23843</td><td>PAPER CRAFT , LITTLE BIRDIE       </td><td>80995</td><td>2011-12-09 09:15:00</td><td>2.08</td><td>16446</td><td>United Kingdom</td></tr>\n",
              "\t<tr><td>541431</td><td>23166</td><td>MEDIUM CERAMIC TOP STORAGE JAR    </td><td>74215</td><td>2011-01-18 10:01:00</td><td>1.04</td><td>12346</td><td>United Kingdom</td></tr>\n",
              "\t<tr><td>497946</td><td>37410</td><td>BLACK AND WHITE PAISLEY FLOWER MUG</td><td>19152</td><td>2010-02-15 11:57:00</td><td>0.10</td><td>13902</td><td>Denmark       </td></tr>\n",
              "\t<tr><td>501534</td><td>21099</td><td>SET/6 STRAWBERRY PAPER CUPS       </td><td>12960</td><td>2010-03-17 13:09:00</td><td>0.10</td><td>13902</td><td>Denmark       </td></tr>\n",
              "\t<tr><td>501534</td><td>21091</td><td>SET/6 WOODLAND PAPER PLATES       </td><td>12960</td><td>2010-03-17 13:09:00</td><td>0.10</td><td>13902</td><td>Denmark       </td></tr>\n",
              "\t<tr><td>501534</td><td>21085</td><td>SET/6 WOODLAND PAPER CUPS         </td><td>12744</td><td>2010-03-17 13:09:00</td><td>0.10</td><td>13902</td><td>Denmark       </td></tr>\n",
              "</tbody>\n",
              "</table>\n"
            ],
            "text/markdown": "\nA tibble: 6 × 8\n\n| Invoice &lt;chr&gt; | StockCode &lt;chr&gt; | Description &lt;chr&gt; | Quantity &lt;dbl&gt; | InvoiceDate &lt;dttm&gt; | Price &lt;dbl&gt; | Customer ID &lt;dbl&gt; | Country &lt;chr&gt; |\n|---|---|---|---|---|---|---|---|\n| 581483 | 23843 | PAPER CRAFT , LITTLE BIRDIE        | 80995 | 2011-12-09 09:15:00 | 2.08 | 16446 | United Kingdom |\n| 541431 | 23166 | MEDIUM CERAMIC TOP STORAGE JAR     | 74215 | 2011-01-18 10:01:00 | 1.04 | 12346 | United Kingdom |\n| 497946 | 37410 | BLACK AND WHITE PAISLEY FLOWER MUG | 19152 | 2010-02-15 11:57:00 | 0.10 | 13902 | Denmark        |\n| 501534 | 21099 | SET/6 STRAWBERRY PAPER CUPS        | 12960 | 2010-03-17 13:09:00 | 0.10 | 13902 | Denmark        |\n| 501534 | 21091 | SET/6 WOODLAND PAPER PLATES        | 12960 | 2010-03-17 13:09:00 | 0.10 | 13902 | Denmark        |\n| 501534 | 21085 | SET/6 WOODLAND PAPER CUPS          | 12744 | 2010-03-17 13:09:00 | 0.10 | 13902 | Denmark        |\n\n",
            "text/latex": "A tibble: 6 × 8\n\\begin{tabular}{llllllll}\n Invoice & StockCode & Description & Quantity & InvoiceDate & Price & Customer ID & Country\\\\\n <chr> & <chr> & <chr> & <dbl> & <dttm> & <dbl> & <dbl> & <chr>\\\\\n\\hline\n\t 581483 & 23843 & PAPER CRAFT , LITTLE BIRDIE        & 80995 & 2011-12-09 09:15:00 & 2.08 & 16446 & United Kingdom\\\\\n\t 541431 & 23166 & MEDIUM CERAMIC TOP STORAGE JAR     & 74215 & 2011-01-18 10:01:00 & 1.04 & 12346 & United Kingdom\\\\\n\t 497946 & 37410 & BLACK AND WHITE PAISLEY FLOWER MUG & 19152 & 2010-02-15 11:57:00 & 0.10 & 13902 & Denmark       \\\\\n\t 501534 & 21099 & SET/6 STRAWBERRY PAPER CUPS        & 12960 & 2010-03-17 13:09:00 & 0.10 & 13902 & Denmark       \\\\\n\t 501534 & 21091 & SET/6 WOODLAND PAPER PLATES        & 12960 & 2010-03-17 13:09:00 & 0.10 & 13902 & Denmark       \\\\\n\t 501534 & 21085 & SET/6 WOODLAND PAPER CUPS          & 12744 & 2010-03-17 13:09:00 & 0.10 & 13902 & Denmark       \\\\\n\\end{tabular}\n",
            "text/plain": [
              "  Invoice StockCode Description                        Quantity\n",
              "1 581483  23843     PAPER CRAFT , LITTLE BIRDIE        80995   \n",
              "2 541431  23166     MEDIUM CERAMIC TOP STORAGE JAR     74215   \n",
              "3 497946  37410     BLACK AND WHITE PAISLEY FLOWER MUG 19152   \n",
              "4 501534  21099     SET/6 STRAWBERRY PAPER CUPS        12960   \n",
              "5 501534  21091     SET/6 WOODLAND PAPER PLATES        12960   \n",
              "6 501534  21085     SET/6 WOODLAND PAPER CUPS          12744   \n",
              "  InvoiceDate         Price Customer ID Country       \n",
              "1 2011-12-09 09:15:00 2.08  16446       United Kingdom\n",
              "2 2011-01-18 10:01:00 1.04  12346       United Kingdom\n",
              "3 2010-02-15 11:57:00 0.10  13902       Denmark       \n",
              "4 2010-03-17 13:09:00 0.10  13902       Denmark       \n",
              "5 2010-03-17 13:09:00 0.10  13902       Denmark       \n",
              "6 2010-03-17 13:09:00 0.10  13902       Denmark       "
            ]
          },
          "metadata": {}
        }
      ]
    },
    {
      "cell_type": "markdown",
      "source": [
        "Dois pedidos extremamente grandes de \"paper craft\" e \"ceramic\", não parece ser um erro, como muito de seus clientes são atavadistas provavelmente alguma comprou essa qtd para revenda"
      ],
      "metadata": {
        "id": "H4GInbgMJl1F"
      }
    },
    {
      "cell_type": "markdown",
      "source": [
        "# Análise de Cohort"
      ],
      "metadata": {
        "id": "RtRDSYziK1Sz"
      }
    },
    {
      "cell_type": "code",
      "source": [
        "df_retail <- retail %>%\n",
        "  mutate(InvoiceMonth = floor_date(InvoiceDate, \"month\"))"
      ],
      "metadata": {
        "id": "HInK2oF_aIZK"
      },
      "execution_count": null,
      "outputs": []
    },
    {
      "cell_type": "code",
      "source": [
        "df_retail <- df_retail %>%\n",
        "  group_by(`Customer ID`) %>%\n",
        "  mutate(Cohort = floor_date(min(InvoiceDate), \"month\"))\n"
      ],
      "metadata": {
        "id": "EUNALuMjaV2V"
      },
      "execution_count": null,
      "outputs": []
    },
    {
      "cell_type": "code",
      "source": [
        "head(df_retail)"
      ],
      "metadata": {
        "colab": {
          "base_uri": "https://localhost:8080/",
          "height": 286
        },
        "id": "SdZhzmqdaz8I",
        "outputId": "24a98394-7797-4140-c485-ae041fe22070"
      },
      "execution_count": null,
      "outputs": [
        {
          "output_type": "display_data",
          "data": {
            "text/html": [
              "<table class=\"dataframe\">\n",
              "<caption>A grouped_df: 6 × 10</caption>\n",
              "<thead>\n",
              "\t<tr><th scope=col>Invoice</th><th scope=col>StockCode</th><th scope=col>Description</th><th scope=col>Quantity</th><th scope=col>InvoiceDate</th><th scope=col>Price</th><th scope=col>Customer ID</th><th scope=col>Country</th><th scope=col>InvoiceMonth</th><th scope=col>Cohort</th></tr>\n",
              "\t<tr><th scope=col>&lt;chr&gt;</th><th scope=col>&lt;chr&gt;</th><th scope=col>&lt;chr&gt;</th><th scope=col>&lt;dbl&gt;</th><th scope=col>&lt;dttm&gt;</th><th scope=col>&lt;dbl&gt;</th><th scope=col>&lt;dbl&gt;</th><th scope=col>&lt;chr&gt;</th><th scope=col>&lt;dttm&gt;</th><th scope=col>&lt;dttm&gt;</th></tr>\n",
              "</thead>\n",
              "<tbody>\n",
              "\t<tr><td>489434</td><td>85048 </td><td>15CM CHRISTMAS GLASS BALL 20 LIGHTS</td><td>12</td><td>2009-12-01 07:45:00</td><td>6.95</td><td>13085</td><td>United Kingdom</td><td>2009-12-01</td><td>2009-12-01</td></tr>\n",
              "\t<tr><td>489434</td><td>79323P</td><td>PINK CHERRY LIGHTS                 </td><td>12</td><td>2009-12-01 07:45:00</td><td>6.75</td><td>13085</td><td>United Kingdom</td><td>2009-12-01</td><td>2009-12-01</td></tr>\n",
              "\t<tr><td>489434</td><td>79323W</td><td>WHITE CHERRY LIGHTS                </td><td>12</td><td>2009-12-01 07:45:00</td><td>6.75</td><td>13085</td><td>United Kingdom</td><td>2009-12-01</td><td>2009-12-01</td></tr>\n",
              "\t<tr><td>489434</td><td>22041 </td><td>RECORD FRAME 7\" SINGLE SIZE        </td><td>48</td><td>2009-12-01 07:45:00</td><td>2.10</td><td>13085</td><td>United Kingdom</td><td>2009-12-01</td><td>2009-12-01</td></tr>\n",
              "\t<tr><td>489434</td><td>21232 </td><td>STRAWBERRY CERAMIC TRINKET BOX     </td><td>24</td><td>2009-12-01 07:45:00</td><td>1.25</td><td>13085</td><td>United Kingdom</td><td>2009-12-01</td><td>2009-12-01</td></tr>\n",
              "\t<tr><td>489434</td><td>22064 </td><td>PINK DOUGHNUT TRINKET POT          </td><td>24</td><td>2009-12-01 07:45:00</td><td>1.65</td><td>13085</td><td>United Kingdom</td><td>2009-12-01</td><td>2009-12-01</td></tr>\n",
              "</tbody>\n",
              "</table>\n"
            ],
            "text/markdown": "\nA grouped_df: 6 × 10\n\n| Invoice &lt;chr&gt; | StockCode &lt;chr&gt; | Description &lt;chr&gt; | Quantity &lt;dbl&gt; | InvoiceDate &lt;dttm&gt; | Price &lt;dbl&gt; | Customer ID &lt;dbl&gt; | Country &lt;chr&gt; | InvoiceMonth &lt;dttm&gt; | Cohort &lt;dttm&gt; |\n|---|---|---|---|---|---|---|---|---|---|\n| 489434 | 85048  | 15CM CHRISTMAS GLASS BALL 20 LIGHTS | 12 | 2009-12-01 07:45:00 | 6.95 | 13085 | United Kingdom | 2009-12-01 | 2009-12-01 |\n| 489434 | 79323P | PINK CHERRY LIGHTS                  | 12 | 2009-12-01 07:45:00 | 6.75 | 13085 | United Kingdom | 2009-12-01 | 2009-12-01 |\n| 489434 | 79323W | WHITE CHERRY LIGHTS                 | 12 | 2009-12-01 07:45:00 | 6.75 | 13085 | United Kingdom | 2009-12-01 | 2009-12-01 |\n| 489434 | 22041  | RECORD FRAME 7\" SINGLE SIZE         | 48 | 2009-12-01 07:45:00 | 2.10 | 13085 | United Kingdom | 2009-12-01 | 2009-12-01 |\n| 489434 | 21232  | STRAWBERRY CERAMIC TRINKET BOX      | 24 | 2009-12-01 07:45:00 | 1.25 | 13085 | United Kingdom | 2009-12-01 | 2009-12-01 |\n| 489434 | 22064  | PINK DOUGHNUT TRINKET POT           | 24 | 2009-12-01 07:45:00 | 1.65 | 13085 | United Kingdom | 2009-12-01 | 2009-12-01 |\n\n",
            "text/latex": "A grouped\\_df: 6 × 10\n\\begin{tabular}{llllllllll}\n Invoice & StockCode & Description & Quantity & InvoiceDate & Price & Customer ID & Country & InvoiceMonth & Cohort\\\\\n <chr> & <chr> & <chr> & <dbl> & <dttm> & <dbl> & <dbl> & <chr> & <dttm> & <dttm>\\\\\n\\hline\n\t 489434 & 85048  & 15CM CHRISTMAS GLASS BALL 20 LIGHTS & 12 & 2009-12-01 07:45:00 & 6.95 & 13085 & United Kingdom & 2009-12-01 & 2009-12-01\\\\\n\t 489434 & 79323P & PINK CHERRY LIGHTS                  & 12 & 2009-12-01 07:45:00 & 6.75 & 13085 & United Kingdom & 2009-12-01 & 2009-12-01\\\\\n\t 489434 & 79323W & WHITE CHERRY LIGHTS                 & 12 & 2009-12-01 07:45:00 & 6.75 & 13085 & United Kingdom & 2009-12-01 & 2009-12-01\\\\\n\t 489434 & 22041  & RECORD FRAME 7\" SINGLE SIZE         & 48 & 2009-12-01 07:45:00 & 2.10 & 13085 & United Kingdom & 2009-12-01 & 2009-12-01\\\\\n\t 489434 & 21232  & STRAWBERRY CERAMIC TRINKET BOX      & 24 & 2009-12-01 07:45:00 & 1.25 & 13085 & United Kingdom & 2009-12-01 & 2009-12-01\\\\\n\t 489434 & 22064  & PINK DOUGHNUT TRINKET POT           & 24 & 2009-12-01 07:45:00 & 1.65 & 13085 & United Kingdom & 2009-12-01 & 2009-12-01\\\\\n\\end{tabular}\n",
            "text/plain": [
              "  Invoice StockCode Description                         Quantity\n",
              "1 489434  85048     15CM CHRISTMAS GLASS BALL 20 LIGHTS 12      \n",
              "2 489434  79323P    PINK CHERRY LIGHTS                  12      \n",
              "3 489434  79323W    WHITE CHERRY LIGHTS                 12      \n",
              "4 489434  22041     RECORD FRAME 7\" SINGLE SIZE         48      \n",
              "5 489434  21232     STRAWBERRY CERAMIC TRINKET BOX      24      \n",
              "6 489434  22064     PINK DOUGHNUT TRINKET POT           24      \n",
              "  InvoiceDate         Price Customer ID Country        InvoiceMonth Cohort    \n",
              "1 2009-12-01 07:45:00 6.95  13085       United Kingdom 2009-12-01   2009-12-01\n",
              "2 2009-12-01 07:45:00 6.75  13085       United Kingdom 2009-12-01   2009-12-01\n",
              "3 2009-12-01 07:45:00 6.75  13085       United Kingdom 2009-12-01   2009-12-01\n",
              "4 2009-12-01 07:45:00 2.10  13085       United Kingdom 2009-12-01   2009-12-01\n",
              "5 2009-12-01 07:45:00 1.25  13085       United Kingdom 2009-12-01   2009-12-01\n",
              "6 2009-12-01 07:45:00 1.65  13085       United Kingdom 2009-12-01   2009-12-01"
            ]
          },
          "metadata": {}
        }
      ]
    },
    {
      "cell_type": "code",
      "source": [
        "retail_cohort <- df_retail %>%\n",
        "  group_by(Cohort, InvoiceMonth) %>%\n",
        "  summarize(n_customers = n_distinct(`Customer ID`)) %>%\n",
        "  ungroup()"
      ],
      "metadata": {
        "colab": {
          "base_uri": "https://localhost:8080/"
        },
        "id": "2e4OLj57c4xa",
        "outputId": "0d0121b4-4fe3-412e-98b5-e1449c887b62"
      },
      "execution_count": null,
      "outputs": [
        {
          "output_type": "stream",
          "name": "stderr",
          "text": [
            "\u001b[1m\u001b[22m`summarise()` has grouped output by 'Cohort'. You can override using the\n",
            "`.groups` argument.\n"
          ]
        }
      ]
    },
    {
      "cell_type": "code",
      "source": [
        "head(retail_cohort)"
      ],
      "metadata": {
        "colab": {
          "base_uri": "https://localhost:8080/",
          "height": 286
        },
        "id": "G79IP3G9dBUJ",
        "outputId": "767848f3-0f43-4cff-c2a6-5de14d1ae6a8"
      },
      "execution_count": null,
      "outputs": [
        {
          "output_type": "display_data",
          "data": {
            "text/html": [
              "<table class=\"dataframe\">\n",
              "<caption>A tibble: 6 × 3</caption>\n",
              "<thead>\n",
              "\t<tr><th scope=col>Cohort</th><th scope=col>InvoiceMonth</th><th scope=col>n_customers</th></tr>\n",
              "\t<tr><th scope=col>&lt;dttm&gt;</th><th scope=col>&lt;dttm&gt;</th><th scope=col>&lt;int&gt;</th></tr>\n",
              "</thead>\n",
              "<tbody>\n",
              "\t<tr><td>2009-12-01</td><td>2009-12-01</td><td>951</td></tr>\n",
              "\t<tr><td>2009-12-01</td><td>2010-01-01</td><td>332</td></tr>\n",
              "\t<tr><td>2009-12-01</td><td>2010-02-01</td><td>317</td></tr>\n",
              "\t<tr><td>2009-12-01</td><td>2010-03-01</td><td>404</td></tr>\n",
              "\t<tr><td>2009-12-01</td><td>2010-04-01</td><td>360</td></tr>\n",
              "\t<tr><td>2009-12-01</td><td>2010-05-01</td><td>342</td></tr>\n",
              "</tbody>\n",
              "</table>\n"
            ],
            "text/markdown": "\nA tibble: 6 × 3\n\n| Cohort &lt;dttm&gt; | InvoiceMonth &lt;dttm&gt; | n_customers &lt;int&gt; |\n|---|---|---|\n| 2009-12-01 | 2009-12-01 | 951 |\n| 2009-12-01 | 2010-01-01 | 332 |\n| 2009-12-01 | 2010-02-01 | 317 |\n| 2009-12-01 | 2010-03-01 | 404 |\n| 2009-12-01 | 2010-04-01 | 360 |\n| 2009-12-01 | 2010-05-01 | 342 |\n\n",
            "text/latex": "A tibble: 6 × 3\n\\begin{tabular}{lll}\n Cohort & InvoiceMonth & n\\_customers\\\\\n <dttm> & <dttm> & <int>\\\\\n\\hline\n\t 2009-12-01 & 2009-12-01 & 951\\\\\n\t 2009-12-01 & 2010-01-01 & 332\\\\\n\t 2009-12-01 & 2010-02-01 & 317\\\\\n\t 2009-12-01 & 2010-03-01 & 404\\\\\n\t 2009-12-01 & 2010-04-01 & 360\\\\\n\t 2009-12-01 & 2010-05-01 & 342\\\\\n\\end{tabular}\n",
            "text/plain": [
              "  Cohort     InvoiceMonth n_customers\n",
              "1 2009-12-01 2009-12-01   951        \n",
              "2 2009-12-01 2010-01-01   332        \n",
              "3 2009-12-01 2010-02-01   317        \n",
              "4 2009-12-01 2010-03-01   404        \n",
              "5 2009-12-01 2010-04-01   360        \n",
              "6 2009-12-01 2010-05-01   342        "
            ]
          },
          "metadata": {}
        }
      ]
    },
    {
      "cell_type": "code",
      "source": [
        "retail_cohort <- retail_cohort %>%\n",
        "  mutate(Period = as.numeric(interval(Cohort, InvoiceMonth) / months(1)))"
      ],
      "metadata": {
        "id": "eYUUGZUfdKpU"
      },
      "execution_count": null,
      "outputs": []
    },
    {
      "cell_type": "code",
      "source": [
        "head(retail_cohort)"
      ],
      "metadata": {
        "colab": {
          "base_uri": "https://localhost:8080/",
          "height": 286
        },
        "id": "xK-UE_mEdRQX",
        "outputId": "31bfc1f9-b9f1-4c52-8d84-1261820faec8"
      },
      "execution_count": null,
      "outputs": [
        {
          "output_type": "display_data",
          "data": {
            "text/html": [
              "<table class=\"dataframe\">\n",
              "<caption>A tibble: 6 × 4</caption>\n",
              "<thead>\n",
              "\t<tr><th scope=col>Cohort</th><th scope=col>InvoiceMonth</th><th scope=col>n_customers</th><th scope=col>Period</th></tr>\n",
              "\t<tr><th scope=col>&lt;dttm&gt;</th><th scope=col>&lt;dttm&gt;</th><th scope=col>&lt;int&gt;</th><th scope=col>&lt;dbl&gt;</th></tr>\n",
              "</thead>\n",
              "<tbody>\n",
              "\t<tr><td>2009-12-01</td><td>2009-12-01</td><td>951</td><td>0</td></tr>\n",
              "\t<tr><td>2009-12-01</td><td>2010-01-01</td><td>332</td><td>1</td></tr>\n",
              "\t<tr><td>2009-12-01</td><td>2010-02-01</td><td>317</td><td>2</td></tr>\n",
              "\t<tr><td>2009-12-01</td><td>2010-03-01</td><td>404</td><td>3</td></tr>\n",
              "\t<tr><td>2009-12-01</td><td>2010-04-01</td><td>360</td><td>4</td></tr>\n",
              "\t<tr><td>2009-12-01</td><td>2010-05-01</td><td>342</td><td>5</td></tr>\n",
              "</tbody>\n",
              "</table>\n"
            ],
            "text/markdown": "\nA tibble: 6 × 4\n\n| Cohort &lt;dttm&gt; | InvoiceMonth &lt;dttm&gt; | n_customers &lt;int&gt; | Period &lt;dbl&gt; |\n|---|---|---|---|\n| 2009-12-01 | 2009-12-01 | 951 | 0 |\n| 2009-12-01 | 2010-01-01 | 332 | 1 |\n| 2009-12-01 | 2010-02-01 | 317 | 2 |\n| 2009-12-01 | 2010-03-01 | 404 | 3 |\n| 2009-12-01 | 2010-04-01 | 360 | 4 |\n| 2009-12-01 | 2010-05-01 | 342 | 5 |\n\n",
            "text/latex": "A tibble: 6 × 4\n\\begin{tabular}{llll}\n Cohort & InvoiceMonth & n\\_customers & Period\\\\\n <dttm> & <dttm> & <int> & <dbl>\\\\\n\\hline\n\t 2009-12-01 & 2009-12-01 & 951 & 0\\\\\n\t 2009-12-01 & 2010-01-01 & 332 & 1\\\\\n\t 2009-12-01 & 2010-02-01 & 317 & 2\\\\\n\t 2009-12-01 & 2010-03-01 & 404 & 3\\\\\n\t 2009-12-01 & 2010-04-01 & 360 & 4\\\\\n\t 2009-12-01 & 2010-05-01 & 342 & 5\\\\\n\\end{tabular}\n",
            "text/plain": [
              "  Cohort     InvoiceMonth n_customers Period\n",
              "1 2009-12-01 2009-12-01   951         0     \n",
              "2 2009-12-01 2010-01-01   332         1     \n",
              "3 2009-12-01 2010-02-01   317         2     \n",
              "4 2009-12-01 2010-03-01   404         3     \n",
              "5 2009-12-01 2010-04-01   360         4     \n",
              "6 2009-12-01 2010-05-01   342         5     "
            ]
          },
          "metadata": {}
        }
      ]
    },
    {
      "cell_type": "code",
      "source": [
        "retail_date <- retail_cohort %>%\n",
        "  mutate(\n",
        "    InvoiceMonth = format(InvoiceMonth, \"%Y-%m\"),\n",
        "    Cohort = format(Cohort, \"%Y-%m\")\n",
        "  )"
      ],
      "metadata": {
        "id": "XUufyLDCdbuC"
      },
      "execution_count": null,
      "outputs": []
    },
    {
      "cell_type": "code",
      "source": [
        "cohort_pivot <- retail_date %>%\n",
        "  select(-InvoiceMonth) %>%\n",
        "  pivot_wider(names_from = Period, values_from = n_customers) %>%\n",
        "  select(Cohort, order(as.numeric(colnames(.))))"
      ],
      "metadata": {
        "colab": {
          "base_uri": "https://localhost:8080/"
        },
        "id": "EYVbzqsRdgiO",
        "outputId": "a0edc771-ff7f-44dd-a11f-60ac0d7c9338"
      },
      "execution_count": null,
      "outputs": [
        {
          "output_type": "stream",
          "name": "stderr",
          "text": [
            "Warning message in order(as.numeric(colnames(.))):\n",
            "“NAs introduced by coercion”\n"
          ]
        }
      ]
    },
    {
      "cell_type": "code",
      "source": [
        "head(cohort_pivot,25)"
      ],
      "metadata": {
        "colab": {
          "base_uri": "https://localhost:8080/",
          "height": 882
        },
        "id": "cWnag_D2dl8Y",
        "outputId": "ba87d6ae-0fbd-410e-b986-2f25abc2ee39"
      },
      "execution_count": null,
      "outputs": [
        {
          "output_type": "display_data",
          "data": {
            "text/html": [
              "<table class=\"dataframe\">\n",
              "<caption>A tibble: 25 × 26</caption>\n",
              "<thead>\n",
              "\t<tr><th scope=col>Cohort</th><th scope=col>0</th><th scope=col>1</th><th scope=col>2</th><th scope=col>3</th><th scope=col>4</th><th scope=col>5</th><th scope=col>6</th><th scope=col>7</th><th scope=col>8</th><th scope=col>⋯</th><th scope=col>15</th><th scope=col>16</th><th scope=col>17</th><th scope=col>18</th><th scope=col>19</th><th scope=col>20</th><th scope=col>21</th><th scope=col>22</th><th scope=col>23</th><th scope=col>24</th></tr>\n",
              "\t<tr><th scope=col>&lt;chr&gt;</th><th scope=col>&lt;int&gt;</th><th scope=col>&lt;int&gt;</th><th scope=col>&lt;int&gt;</th><th scope=col>&lt;int&gt;</th><th scope=col>&lt;int&gt;</th><th scope=col>&lt;int&gt;</th><th scope=col>&lt;int&gt;</th><th scope=col>&lt;int&gt;</th><th scope=col>&lt;int&gt;</th><th scope=col>⋯</th><th scope=col>&lt;int&gt;</th><th scope=col>&lt;int&gt;</th><th scope=col>&lt;int&gt;</th><th scope=col>&lt;int&gt;</th><th scope=col>&lt;int&gt;</th><th scope=col>&lt;int&gt;</th><th scope=col>&lt;int&gt;</th><th scope=col>&lt;int&gt;</th><th scope=col>&lt;int&gt;</th><th scope=col>&lt;int&gt;</th></tr>\n",
              "</thead>\n",
              "<tbody>\n",
              "\t<tr><td>2009-12</td><td>951</td><td>332</td><td>317</td><td>404</td><td>360</td><td>342</td><td>358</td><td>327</td><td>321</td><td>⋯</td><td>288</td><td>250</td><td>288</td><td>270</td><td>246</td><td>242</td><td>298</td><td>289</td><td>386</td><td>187</td></tr>\n",
              "\t<tr><td>2010-01</td><td>368</td><td> 79</td><td>118</td><td>116</td><td>100</td><td>114</td><td> 99</td><td> 86</td><td>105</td><td>⋯</td><td> 56</td><td> 90</td><td> 75</td><td> 71</td><td> 74</td><td> 93</td><td> 73</td><td> 93</td><td> 21</td><td> NA</td></tr>\n",
              "\t<tr><td>2010-02</td><td>374</td><td> 88</td><td> 85</td><td>109</td><td> 91</td><td> 73</td><td> 72</td><td>107</td><td> 96</td><td>⋯</td><td> 75</td><td> 59</td><td> 60</td><td> 54</td><td> 85</td><td> 86</td><td> 62</td><td> 22</td><td> NA</td><td> NA</td></tr>\n",
              "\t<tr><td>2010-03</td><td>441</td><td> 84</td><td>102</td><td>107</td><td>102</td><td> 90</td><td>109</td><td>135</td><td>122</td><td>⋯</td><td> 75</td><td> 77</td><td> 69</td><td> 78</td><td> 90</td><td> 94</td><td> 34</td><td> NA</td><td> NA</td><td> NA</td></tr>\n",
              "\t<tr><td>2010-04</td><td>291</td><td> 55</td><td> 55</td><td> 46</td><td> 54</td><td> 64</td><td> 81</td><td> 78</td><td> 31</td><td>⋯</td><td> 46</td><td> 41</td><td> 43</td><td> 52</td><td> 67</td><td> 16</td><td> NA</td><td> NA</td><td> NA</td><td> NA</td></tr>\n",
              "\t<tr><td>2010-05</td><td>257</td><td> 42</td><td> 45</td><td> 45</td><td> 47</td><td> 65</td><td> 55</td><td> 32</td><td> 15</td><td>⋯</td><td> 32</td><td> 36</td><td> 42</td><td> 39</td><td> 12</td><td> NA</td><td> NA</td><td> NA</td><td> NA</td><td> NA</td></tr>\n",
              "\t<tr><td>2010-06</td><td>267</td><td> 47</td><td> 50</td><td> 55</td><td> 62</td><td> 76</td><td> 34</td><td> 24</td><td> 22</td><td>⋯</td><td> 33</td><td> 35</td><td> 54</td><td> 13</td><td> NA</td><td> NA</td><td> NA</td><td> NA</td><td> NA</td><td> NA</td></tr>\n",
              "\t<tr><td>2010-07</td><td>185</td><td> 29</td><td> 34</td><td> 55</td><td> 54</td><td> 26</td><td> 21</td><td> 27</td><td> 27</td><td>⋯</td><td> 32</td><td> 44</td><td> 15</td><td> NA</td><td> NA</td><td> NA</td><td> NA</td><td> NA</td><td> NA</td><td> NA</td></tr>\n",
              "\t<tr><td>2010-08</td><td>163</td><td> 32</td><td> 47</td><td> 53</td><td> 27</td><td> 19</td><td> 16</td><td> 21</td><td> 22</td><td>⋯</td><td> 32</td><td> 12</td><td> NA</td><td> NA</td><td> NA</td><td> NA</td><td> NA</td><td> NA</td><td> NA</td><td> NA</td></tr>\n",
              "\t<tr><td>2010-09</td><td>239</td><td> 55</td><td> 56</td><td> 31</td><td> 21</td><td> 25</td><td> 33</td><td> 23</td><td> 31</td><td>⋯</td><td> 13</td><td> NA</td><td> NA</td><td> NA</td><td> NA</td><td> NA</td><td> NA</td><td> NA</td><td> NA</td><td> NA</td></tr>\n",
              "\t<tr><td>2010-10</td><td>375</td><td> 97</td><td> 55</td><td> 47</td><td> 33</td><td> 31</td><td> 49</td><td> 52</td><td> 40</td><td>⋯</td><td> NA</td><td> NA</td><td> NA</td><td> NA</td><td> NA</td><td> NA</td><td> NA</td><td> NA</td><td> NA</td><td> NA</td></tr>\n",
              "\t<tr><td>2010-11</td><td>325</td><td> 57</td><td> 31</td><td> 31</td><td> 25</td><td> 29</td><td> 42</td><td> 33</td><td> 28</td><td>⋯</td><td> NA</td><td> NA</td><td> NA</td><td> NA</td><td> NA</td><td> NA</td><td> NA</td><td> NA</td><td> NA</td><td> NA</td></tr>\n",
              "\t<tr><td>2010-12</td><td> 76</td><td>  7</td><td>  4</td><td>  7</td><td>  9</td><td>  5</td><td>  4</td><td>  7</td><td>  4</td><td>⋯</td><td> NA</td><td> NA</td><td> NA</td><td> NA</td><td> NA</td><td> NA</td><td> NA</td><td> NA</td><td> NA</td><td> NA</td></tr>\n",
              "\t<tr><td>2011-01</td><td> 72</td><td> 12</td><td> 16</td><td> 14</td><td> 16</td><td> 11</td><td> 11</td><td>  9</td><td>  8</td><td>⋯</td><td> NA</td><td> NA</td><td> NA</td><td> NA</td><td> NA</td><td> NA</td><td> NA</td><td> NA</td><td> NA</td><td> NA</td></tr>\n",
              "\t<tr><td>2011-02</td><td>125</td><td> 20</td><td> 20</td><td> 23</td><td> 27</td><td> 20</td><td> 20</td><td> 19</td><td> 19</td><td>⋯</td><td> NA</td><td> NA</td><td> NA</td><td> NA</td><td> NA</td><td> NA</td><td> NA</td><td> NA</td><td> NA</td><td> NA</td></tr>\n",
              "\t<tr><td>2011-03</td><td>179</td><td> 32</td><td> 39</td><td> 36</td><td> 40</td><td> 27</td><td> 37</td><td> 36</td><td> 43</td><td>⋯</td><td> NA</td><td> NA</td><td> NA</td><td> NA</td><td> NA</td><td> NA</td><td> NA</td><td> NA</td><td> NA</td><td> NA</td></tr>\n",
              "\t<tr><td>2011-04</td><td>106</td><td> 26</td><td> 21</td><td> 21</td><td> 19</td><td> 25</td><td> 19</td><td> 27</td><td> 12</td><td>⋯</td><td> NA</td><td> NA</td><td> NA</td><td> NA</td><td> NA</td><td> NA</td><td> NA</td><td> NA</td><td> NA</td><td> NA</td></tr>\n",
              "\t<tr><td>2011-05</td><td>111</td><td> 26</td><td> 27</td><td> 18</td><td> 24</td><td> 23</td><td> 29</td><td> 13</td><td> NA</td><td>⋯</td><td> NA</td><td> NA</td><td> NA</td><td> NA</td><td> NA</td><td> NA</td><td> NA</td><td> NA</td><td> NA</td><td> NA</td></tr>\n",
              "\t<tr><td>2011-06</td><td>108</td><td> 25</td><td> 23</td><td> 29</td><td> 22</td><td> 30</td><td>  9</td><td> NA</td><td> NA</td><td>⋯</td><td> NA</td><td> NA</td><td> NA</td><td> NA</td><td> NA</td><td> NA</td><td> NA</td><td> NA</td><td> NA</td><td> NA</td></tr>\n",
              "\t<tr><td>2011-07</td><td>101</td><td> 21</td><td> 30</td><td> 28</td><td> 35</td><td> 16</td><td> NA</td><td> NA</td><td> NA</td><td>⋯</td><td> NA</td><td> NA</td><td> NA</td><td> NA</td><td> NA</td><td> NA</td><td> NA</td><td> NA</td><td> NA</td><td> NA</td></tr>\n",
              "\t<tr><td>2011-08</td><td>107</td><td> 28</td><td> 32</td><td> 28</td><td> 18</td><td> NA</td><td> NA</td><td> NA</td><td> NA</td><td>⋯</td><td> NA</td><td> NA</td><td> NA</td><td> NA</td><td> NA</td><td> NA</td><td> NA</td><td> NA</td><td> NA</td><td> NA</td></tr>\n",
              "\t<tr><td>2011-09</td><td>188</td><td> 51</td><td> 71</td><td> 28</td><td> NA</td><td> NA</td><td> NA</td><td> NA</td><td> NA</td><td>⋯</td><td> NA</td><td> NA</td><td> NA</td><td> NA</td><td> NA</td><td> NA</td><td> NA</td><td> NA</td><td> NA</td><td> NA</td></tr>\n",
              "\t<tr><td>2011-10</td><td>222</td><td> 70</td><td> 35</td><td> NA</td><td> NA</td><td> NA</td><td> NA</td><td> NA</td><td> NA</td><td>⋯</td><td> NA</td><td> NA</td><td> NA</td><td> NA</td><td> NA</td><td> NA</td><td> NA</td><td> NA</td><td> NA</td><td> NA</td></tr>\n",
              "\t<tr><td>2011-11</td><td>191</td><td> 27</td><td> NA</td><td> NA</td><td> NA</td><td> NA</td><td> NA</td><td> NA</td><td> NA</td><td>⋯</td><td> NA</td><td> NA</td><td> NA</td><td> NA</td><td> NA</td><td> NA</td><td> NA</td><td> NA</td><td> NA</td><td> NA</td></tr>\n",
              "\t<tr><td>2011-12</td><td> 28</td><td> NA</td><td> NA</td><td> NA</td><td> NA</td><td> NA</td><td> NA</td><td> NA</td><td> NA</td><td>⋯</td><td> NA</td><td> NA</td><td> NA</td><td> NA</td><td> NA</td><td> NA</td><td> NA</td><td> NA</td><td> NA</td><td> NA</td></tr>\n",
              "</tbody>\n",
              "</table>\n"
            ],
            "text/markdown": "\nA tibble: 25 × 26\n\n| Cohort &lt;chr&gt; | 0 &lt;int&gt; | 1 &lt;int&gt; | 2 &lt;int&gt; | 3 &lt;int&gt; | 4 &lt;int&gt; | 5 &lt;int&gt; | 6 &lt;int&gt; | 7 &lt;int&gt; | 8 &lt;int&gt; | ⋯ ⋯ | 15 &lt;int&gt; | 16 &lt;int&gt; | 17 &lt;int&gt; | 18 &lt;int&gt; | 19 &lt;int&gt; | 20 &lt;int&gt; | 21 &lt;int&gt; | 22 &lt;int&gt; | 23 &lt;int&gt; | 24 &lt;int&gt; |\n|---|---|---|---|---|---|---|---|---|---|---|---|---|---|---|---|---|---|---|---|---|\n| 2009-12 | 951 | 332 | 317 | 404 | 360 | 342 | 358 | 327 | 321 | ⋯ | 288 | 250 | 288 | 270 | 246 | 242 | 298 | 289 | 386 | 187 |\n| 2010-01 | 368 |  79 | 118 | 116 | 100 | 114 |  99 |  86 | 105 | ⋯ |  56 |  90 |  75 |  71 |  74 |  93 |  73 |  93 |  21 |  NA |\n| 2010-02 | 374 |  88 |  85 | 109 |  91 |  73 |  72 | 107 |  96 | ⋯ |  75 |  59 |  60 |  54 |  85 |  86 |  62 |  22 |  NA |  NA |\n| 2010-03 | 441 |  84 | 102 | 107 | 102 |  90 | 109 | 135 | 122 | ⋯ |  75 |  77 |  69 |  78 |  90 |  94 |  34 |  NA |  NA |  NA |\n| 2010-04 | 291 |  55 |  55 |  46 |  54 |  64 |  81 |  78 |  31 | ⋯ |  46 |  41 |  43 |  52 |  67 |  16 |  NA |  NA |  NA |  NA |\n| 2010-05 | 257 |  42 |  45 |  45 |  47 |  65 |  55 |  32 |  15 | ⋯ |  32 |  36 |  42 |  39 |  12 |  NA |  NA |  NA |  NA |  NA |\n| 2010-06 | 267 |  47 |  50 |  55 |  62 |  76 |  34 |  24 |  22 | ⋯ |  33 |  35 |  54 |  13 |  NA |  NA |  NA |  NA |  NA |  NA |\n| 2010-07 | 185 |  29 |  34 |  55 |  54 |  26 |  21 |  27 |  27 | ⋯ |  32 |  44 |  15 |  NA |  NA |  NA |  NA |  NA |  NA |  NA |\n| 2010-08 | 163 |  32 |  47 |  53 |  27 |  19 |  16 |  21 |  22 | ⋯ |  32 |  12 |  NA |  NA |  NA |  NA |  NA |  NA |  NA |  NA |\n| 2010-09 | 239 |  55 |  56 |  31 |  21 |  25 |  33 |  23 |  31 | ⋯ |  13 |  NA |  NA |  NA |  NA |  NA |  NA |  NA |  NA |  NA |\n| 2010-10 | 375 |  97 |  55 |  47 |  33 |  31 |  49 |  52 |  40 | ⋯ |  NA |  NA |  NA |  NA |  NA |  NA |  NA |  NA |  NA |  NA |\n| 2010-11 | 325 |  57 |  31 |  31 |  25 |  29 |  42 |  33 |  28 | ⋯ |  NA |  NA |  NA |  NA |  NA |  NA |  NA |  NA |  NA |  NA |\n| 2010-12 |  76 |   7 |   4 |   7 |   9 |   5 |   4 |   7 |   4 | ⋯ |  NA |  NA |  NA |  NA |  NA |  NA |  NA |  NA |  NA |  NA |\n| 2011-01 |  72 |  12 |  16 |  14 |  16 |  11 |  11 |   9 |   8 | ⋯ |  NA |  NA |  NA |  NA |  NA |  NA |  NA |  NA |  NA |  NA |\n| 2011-02 | 125 |  20 |  20 |  23 |  27 |  20 |  20 |  19 |  19 | ⋯ |  NA |  NA |  NA |  NA |  NA |  NA |  NA |  NA |  NA |  NA |\n| 2011-03 | 179 |  32 |  39 |  36 |  40 |  27 |  37 |  36 |  43 | ⋯ |  NA |  NA |  NA |  NA |  NA |  NA |  NA |  NA |  NA |  NA |\n| 2011-04 | 106 |  26 |  21 |  21 |  19 |  25 |  19 |  27 |  12 | ⋯ |  NA |  NA |  NA |  NA |  NA |  NA |  NA |  NA |  NA |  NA |\n| 2011-05 | 111 |  26 |  27 |  18 |  24 |  23 |  29 |  13 |  NA | ⋯ |  NA |  NA |  NA |  NA |  NA |  NA |  NA |  NA |  NA |  NA |\n| 2011-06 | 108 |  25 |  23 |  29 |  22 |  30 |   9 |  NA |  NA | ⋯ |  NA |  NA |  NA |  NA |  NA |  NA |  NA |  NA |  NA |  NA |\n| 2011-07 | 101 |  21 |  30 |  28 |  35 |  16 |  NA |  NA |  NA | ⋯ |  NA |  NA |  NA |  NA |  NA |  NA |  NA |  NA |  NA |  NA |\n| 2011-08 | 107 |  28 |  32 |  28 |  18 |  NA |  NA |  NA |  NA | ⋯ |  NA |  NA |  NA |  NA |  NA |  NA |  NA |  NA |  NA |  NA |\n| 2011-09 | 188 |  51 |  71 |  28 |  NA |  NA |  NA |  NA |  NA | ⋯ |  NA |  NA |  NA |  NA |  NA |  NA |  NA |  NA |  NA |  NA |\n| 2011-10 | 222 |  70 |  35 |  NA |  NA |  NA |  NA |  NA |  NA | ⋯ |  NA |  NA |  NA |  NA |  NA |  NA |  NA |  NA |  NA |  NA |\n| 2011-11 | 191 |  27 |  NA |  NA |  NA |  NA |  NA |  NA |  NA | ⋯ |  NA |  NA |  NA |  NA |  NA |  NA |  NA |  NA |  NA |  NA |\n| 2011-12 |  28 |  NA |  NA |  NA |  NA |  NA |  NA |  NA |  NA | ⋯ |  NA |  NA |  NA |  NA |  NA |  NA |  NA |  NA |  NA |  NA |\n\n",
            "text/latex": "A tibble: 25 × 26\n\\begin{tabular}{lllllllllllllllllllll}\n Cohort & 0 & 1 & 2 & 3 & 4 & 5 & 6 & 7 & 8 & ⋯ & 15 & 16 & 17 & 18 & 19 & 20 & 21 & 22 & 23 & 24\\\\\n <chr> & <int> & <int> & <int> & <int> & <int> & <int> & <int> & <int> & <int> & ⋯ & <int> & <int> & <int> & <int> & <int> & <int> & <int> & <int> & <int> & <int>\\\\\n\\hline\n\t 2009-12 & 951 & 332 & 317 & 404 & 360 & 342 & 358 & 327 & 321 & ⋯ & 288 & 250 & 288 & 270 & 246 & 242 & 298 & 289 & 386 & 187\\\\\n\t 2010-01 & 368 &  79 & 118 & 116 & 100 & 114 &  99 &  86 & 105 & ⋯ &  56 &  90 &  75 &  71 &  74 &  93 &  73 &  93 &  21 &  NA\\\\\n\t 2010-02 & 374 &  88 &  85 & 109 &  91 &  73 &  72 & 107 &  96 & ⋯ &  75 &  59 &  60 &  54 &  85 &  86 &  62 &  22 &  NA &  NA\\\\\n\t 2010-03 & 441 &  84 & 102 & 107 & 102 &  90 & 109 & 135 & 122 & ⋯ &  75 &  77 &  69 &  78 &  90 &  94 &  34 &  NA &  NA &  NA\\\\\n\t 2010-04 & 291 &  55 &  55 &  46 &  54 &  64 &  81 &  78 &  31 & ⋯ &  46 &  41 &  43 &  52 &  67 &  16 &  NA &  NA &  NA &  NA\\\\\n\t 2010-05 & 257 &  42 &  45 &  45 &  47 &  65 &  55 &  32 &  15 & ⋯ &  32 &  36 &  42 &  39 &  12 &  NA &  NA &  NA &  NA &  NA\\\\\n\t 2010-06 & 267 &  47 &  50 &  55 &  62 &  76 &  34 &  24 &  22 & ⋯ &  33 &  35 &  54 &  13 &  NA &  NA &  NA &  NA &  NA &  NA\\\\\n\t 2010-07 & 185 &  29 &  34 &  55 &  54 &  26 &  21 &  27 &  27 & ⋯ &  32 &  44 &  15 &  NA &  NA &  NA &  NA &  NA &  NA &  NA\\\\\n\t 2010-08 & 163 &  32 &  47 &  53 &  27 &  19 &  16 &  21 &  22 & ⋯ &  32 &  12 &  NA &  NA &  NA &  NA &  NA &  NA &  NA &  NA\\\\\n\t 2010-09 & 239 &  55 &  56 &  31 &  21 &  25 &  33 &  23 &  31 & ⋯ &  13 &  NA &  NA &  NA &  NA &  NA &  NA &  NA &  NA &  NA\\\\\n\t 2010-10 & 375 &  97 &  55 &  47 &  33 &  31 &  49 &  52 &  40 & ⋯ &  NA &  NA &  NA &  NA &  NA &  NA &  NA &  NA &  NA &  NA\\\\\n\t 2010-11 & 325 &  57 &  31 &  31 &  25 &  29 &  42 &  33 &  28 & ⋯ &  NA &  NA &  NA &  NA &  NA &  NA &  NA &  NA &  NA &  NA\\\\\n\t 2010-12 &  76 &   7 &   4 &   7 &   9 &   5 &   4 &   7 &   4 & ⋯ &  NA &  NA &  NA &  NA &  NA &  NA &  NA &  NA &  NA &  NA\\\\\n\t 2011-01 &  72 &  12 &  16 &  14 &  16 &  11 &  11 &   9 &   8 & ⋯ &  NA &  NA &  NA &  NA &  NA &  NA &  NA &  NA &  NA &  NA\\\\\n\t 2011-02 & 125 &  20 &  20 &  23 &  27 &  20 &  20 &  19 &  19 & ⋯ &  NA &  NA &  NA &  NA &  NA &  NA &  NA &  NA &  NA &  NA\\\\\n\t 2011-03 & 179 &  32 &  39 &  36 &  40 &  27 &  37 &  36 &  43 & ⋯ &  NA &  NA &  NA &  NA &  NA &  NA &  NA &  NA &  NA &  NA\\\\\n\t 2011-04 & 106 &  26 &  21 &  21 &  19 &  25 &  19 &  27 &  12 & ⋯ &  NA &  NA &  NA &  NA &  NA &  NA &  NA &  NA &  NA &  NA\\\\\n\t 2011-05 & 111 &  26 &  27 &  18 &  24 &  23 &  29 &  13 &  NA & ⋯ &  NA &  NA &  NA &  NA &  NA &  NA &  NA &  NA &  NA &  NA\\\\\n\t 2011-06 & 108 &  25 &  23 &  29 &  22 &  30 &   9 &  NA &  NA & ⋯ &  NA &  NA &  NA &  NA &  NA &  NA &  NA &  NA &  NA &  NA\\\\\n\t 2011-07 & 101 &  21 &  30 &  28 &  35 &  16 &  NA &  NA &  NA & ⋯ &  NA &  NA &  NA &  NA &  NA &  NA &  NA &  NA &  NA &  NA\\\\\n\t 2011-08 & 107 &  28 &  32 &  28 &  18 &  NA &  NA &  NA &  NA & ⋯ &  NA &  NA &  NA &  NA &  NA &  NA &  NA &  NA &  NA &  NA\\\\\n\t 2011-09 & 188 &  51 &  71 &  28 &  NA &  NA &  NA &  NA &  NA & ⋯ &  NA &  NA &  NA &  NA &  NA &  NA &  NA &  NA &  NA &  NA\\\\\n\t 2011-10 & 222 &  70 &  35 &  NA &  NA &  NA &  NA &  NA &  NA & ⋯ &  NA &  NA &  NA &  NA &  NA &  NA &  NA &  NA &  NA &  NA\\\\\n\t 2011-11 & 191 &  27 &  NA &  NA &  NA &  NA &  NA &  NA &  NA & ⋯ &  NA &  NA &  NA &  NA &  NA &  NA &  NA &  NA &  NA &  NA\\\\\n\t 2011-12 &  28 &  NA &  NA &  NA &  NA &  NA &  NA &  NA &  NA & ⋯ &  NA &  NA &  NA &  NA &  NA &  NA &  NA &  NA &  NA &  NA\\\\\n\\end{tabular}\n",
            "text/plain": [
              "   Cohort  0   1   2   3   4   5   6   7   8   ⋯ 15  16  17  18  19  20  21 \n",
              "1  2009-12 951 332 317 404 360 342 358 327 321 ⋯ 288 250 288 270 246 242 298\n",
              "2  2010-01 368  79 118 116 100 114  99  86 105 ⋯  56  90  75  71  74  93  73\n",
              "3  2010-02 374  88  85 109  91  73  72 107  96 ⋯  75  59  60  54  85  86  62\n",
              "4  2010-03 441  84 102 107 102  90 109 135 122 ⋯  75  77  69  78  90  94  34\n",
              "5  2010-04 291  55  55  46  54  64  81  78  31 ⋯  46  41  43  52  67  16  NA\n",
              "6  2010-05 257  42  45  45  47  65  55  32  15 ⋯  32  36  42  39  12  NA  NA\n",
              "7  2010-06 267  47  50  55  62  76  34  24  22 ⋯  33  35  54  13  NA  NA  NA\n",
              "8  2010-07 185  29  34  55  54  26  21  27  27 ⋯  32  44  15  NA  NA  NA  NA\n",
              "9  2010-08 163  32  47  53  27  19  16  21  22 ⋯  32  12  NA  NA  NA  NA  NA\n",
              "10 2010-09 239  55  56  31  21  25  33  23  31 ⋯  13  NA  NA  NA  NA  NA  NA\n",
              "11 2010-10 375  97  55  47  33  31  49  52  40 ⋯  NA  NA  NA  NA  NA  NA  NA\n",
              "12 2010-11 325  57  31  31  25  29  42  33  28 ⋯  NA  NA  NA  NA  NA  NA  NA\n",
              "13 2010-12  76   7   4   7   9   5   4   7   4 ⋯  NA  NA  NA  NA  NA  NA  NA\n",
              "14 2011-01  72  12  16  14  16  11  11   9   8 ⋯  NA  NA  NA  NA  NA  NA  NA\n",
              "15 2011-02 125  20  20  23  27  20  20  19  19 ⋯  NA  NA  NA  NA  NA  NA  NA\n",
              "16 2011-03 179  32  39  36  40  27  37  36  43 ⋯  NA  NA  NA  NA  NA  NA  NA\n",
              "17 2011-04 106  26  21  21  19  25  19  27  12 ⋯  NA  NA  NA  NA  NA  NA  NA\n",
              "18 2011-05 111  26  27  18  24  23  29  13  NA ⋯  NA  NA  NA  NA  NA  NA  NA\n",
              "19 2011-06 108  25  23  29  22  30   9  NA  NA ⋯  NA  NA  NA  NA  NA  NA  NA\n",
              "20 2011-07 101  21  30  28  35  16  NA  NA  NA ⋯  NA  NA  NA  NA  NA  NA  NA\n",
              "21 2011-08 107  28  32  28  18  NA  NA  NA  NA ⋯  NA  NA  NA  NA  NA  NA  NA\n",
              "22 2011-09 188  51  71  28  NA  NA  NA  NA  NA ⋯  NA  NA  NA  NA  NA  NA  NA\n",
              "23 2011-10 222  70  35  NA  NA  NA  NA  NA  NA ⋯  NA  NA  NA  NA  NA  NA  NA\n",
              "24 2011-11 191  27  NA  NA  NA  NA  NA  NA  NA ⋯  NA  NA  NA  NA  NA  NA  NA\n",
              "25 2011-12  28  NA  NA  NA  NA  NA  NA  NA  NA ⋯  NA  NA  NA  NA  NA  NA  NA\n",
              "   22  23  24 \n",
              "1  289 386 187\n",
              "2   93  21  NA\n",
              "3   22  NA  NA\n",
              "4   NA  NA  NA\n",
              "5   NA  NA  NA\n",
              "6   NA  NA  NA\n",
              "7   NA  NA  NA\n",
              "8   NA  NA  NA\n",
              "9   NA  NA  NA\n",
              "10  NA  NA  NA\n",
              "11  NA  NA  NA\n",
              "12  NA  NA  NA\n",
              "13  NA  NA  NA\n",
              "14  NA  NA  NA\n",
              "15  NA  NA  NA\n",
              "16  NA  NA  NA\n",
              "17  NA  NA  NA\n",
              "18  NA  NA  NA\n",
              "19  NA  NA  NA\n",
              "20  NA  NA  NA\n",
              "21  NA  NA  NA\n",
              "22  NA  NA  NA\n",
              "23  NA  NA  NA\n",
              "24  NA  NA  NA\n",
              "25  NA  NA  NA"
            ]
          },
          "metadata": {}
        }
      ]
    },
    {
      "cell_type": "code",
      "source": [
        "cohort_size <- cohort_pivot[, 1:2]\n",
        "cohort_size\n"
      ],
      "metadata": {
        "colab": {
          "base_uri": "https://localhost:8080/",
          "height": 882
        },
        "id": "s-ylc4zA-BaH",
        "outputId": "1ac202cf-d2b0-4c7e-9ce5-ccba3bd90559"
      },
      "execution_count": null,
      "outputs": [
        {
          "output_type": "display_data",
          "data": {
            "text/html": [
              "<table class=\"dataframe\">\n",
              "<caption>A tibble: 25 × 2</caption>\n",
              "<thead>\n",
              "\t<tr><th scope=col>Cohort</th><th scope=col>0</th></tr>\n",
              "\t<tr><th scope=col>&lt;chr&gt;</th><th scope=col>&lt;int&gt;</th></tr>\n",
              "</thead>\n",
              "<tbody>\n",
              "\t<tr><td>2009-12</td><td>951</td></tr>\n",
              "\t<tr><td>2010-01</td><td>368</td></tr>\n",
              "\t<tr><td>2010-02</td><td>374</td></tr>\n",
              "\t<tr><td>2010-03</td><td>441</td></tr>\n",
              "\t<tr><td>2010-04</td><td>291</td></tr>\n",
              "\t<tr><td>2010-05</td><td>257</td></tr>\n",
              "\t<tr><td>2010-06</td><td>267</td></tr>\n",
              "\t<tr><td>2010-07</td><td>185</td></tr>\n",
              "\t<tr><td>2010-08</td><td>163</td></tr>\n",
              "\t<tr><td>2010-09</td><td>239</td></tr>\n",
              "\t<tr><td>2010-10</td><td>375</td></tr>\n",
              "\t<tr><td>2010-11</td><td>325</td></tr>\n",
              "\t<tr><td>2010-12</td><td> 76</td></tr>\n",
              "\t<tr><td>2011-01</td><td> 72</td></tr>\n",
              "\t<tr><td>2011-02</td><td>125</td></tr>\n",
              "\t<tr><td>2011-03</td><td>179</td></tr>\n",
              "\t<tr><td>2011-04</td><td>106</td></tr>\n",
              "\t<tr><td>2011-05</td><td>111</td></tr>\n",
              "\t<tr><td>2011-06</td><td>108</td></tr>\n",
              "\t<tr><td>2011-07</td><td>101</td></tr>\n",
              "\t<tr><td>2011-08</td><td>107</td></tr>\n",
              "\t<tr><td>2011-09</td><td>188</td></tr>\n",
              "\t<tr><td>2011-10</td><td>222</td></tr>\n",
              "\t<tr><td>2011-11</td><td>191</td></tr>\n",
              "\t<tr><td>2011-12</td><td> 28</td></tr>\n",
              "</tbody>\n",
              "</table>\n"
            ],
            "text/markdown": "\nA tibble: 25 × 2\n\n| Cohort &lt;chr&gt; | 0 &lt;int&gt; |\n|---|---|\n| 2009-12 | 951 |\n| 2010-01 | 368 |\n| 2010-02 | 374 |\n| 2010-03 | 441 |\n| 2010-04 | 291 |\n| 2010-05 | 257 |\n| 2010-06 | 267 |\n| 2010-07 | 185 |\n| 2010-08 | 163 |\n| 2010-09 | 239 |\n| 2010-10 | 375 |\n| 2010-11 | 325 |\n| 2010-12 |  76 |\n| 2011-01 |  72 |\n| 2011-02 | 125 |\n| 2011-03 | 179 |\n| 2011-04 | 106 |\n| 2011-05 | 111 |\n| 2011-06 | 108 |\n| 2011-07 | 101 |\n| 2011-08 | 107 |\n| 2011-09 | 188 |\n| 2011-10 | 222 |\n| 2011-11 | 191 |\n| 2011-12 |  28 |\n\n",
            "text/latex": "A tibble: 25 × 2\n\\begin{tabular}{ll}\n Cohort & 0\\\\\n <chr> & <int>\\\\\n\\hline\n\t 2009-12 & 951\\\\\n\t 2010-01 & 368\\\\\n\t 2010-02 & 374\\\\\n\t 2010-03 & 441\\\\\n\t 2010-04 & 291\\\\\n\t 2010-05 & 257\\\\\n\t 2010-06 & 267\\\\\n\t 2010-07 & 185\\\\\n\t 2010-08 & 163\\\\\n\t 2010-09 & 239\\\\\n\t 2010-10 & 375\\\\\n\t 2010-11 & 325\\\\\n\t 2010-12 &  76\\\\\n\t 2011-01 &  72\\\\\n\t 2011-02 & 125\\\\\n\t 2011-03 & 179\\\\\n\t 2011-04 & 106\\\\\n\t 2011-05 & 111\\\\\n\t 2011-06 & 108\\\\\n\t 2011-07 & 101\\\\\n\t 2011-08 & 107\\\\\n\t 2011-09 & 188\\\\\n\t 2011-10 & 222\\\\\n\t 2011-11 & 191\\\\\n\t 2011-12 &  28\\\\\n\\end{tabular}\n",
            "text/plain": [
              "   Cohort  0  \n",
              "1  2009-12 951\n",
              "2  2010-01 368\n",
              "3  2010-02 374\n",
              "4  2010-03 441\n",
              "5  2010-04 291\n",
              "6  2010-05 257\n",
              "7  2010-06 267\n",
              "8  2010-07 185\n",
              "9  2010-08 163\n",
              "10 2010-09 239\n",
              "11 2010-10 375\n",
              "12 2010-11 325\n",
              "13 2010-12  76\n",
              "14 2011-01  72\n",
              "15 2011-02 125\n",
              "16 2011-03 179\n",
              "17 2011-04 106\n",
              "18 2011-05 111\n",
              "19 2011-06 108\n",
              "20 2011-07 101\n",
              "21 2011-08 107\n",
              "22 2011-09 188\n",
              "23 2011-10 222\n",
              "24 2011-11 191\n",
              "25 2011-12  28"
            ]
          },
          "metadata": {}
        }
      ]
    },
    {
      "cell_type": "code",
      "source": [
        "# Dividir cada coluna de cohort_pivot pela segunda coluna de cohort_size\n",
        "cohort_pct <- cohort_pivot\n",
        "cohort_pct[, -1] <- round(cohort_pivot[, -1] / cohort_size[, rep(2, ncol(cohort_pivot) - 1)],4)\n",
        "\n",
        "\n",
        "head(cohort_pct,25)"
      ],
      "metadata": {
        "colab": {
          "base_uri": "https://localhost:8080/",
          "height": 1000
        },
        "id": "2seNc09d8HkZ",
        "outputId": "bb1297b6-36ee-4374-97e7-e2d3f6324930"
      },
      "execution_count": null,
      "outputs": [
        {
          "output_type": "display_data",
          "data": {
            "text/html": [
              "<table class=\"dataframe\">\n",
              "<caption>A tibble: 25 × 26</caption>\n",
              "<thead>\n",
              "\t<tr><th scope=col>Cohort</th><th scope=col>0</th><th scope=col>1</th><th scope=col>2</th><th scope=col>3</th><th scope=col>4</th><th scope=col>5</th><th scope=col>6</th><th scope=col>7</th><th scope=col>8</th><th scope=col>⋯</th><th scope=col>15</th><th scope=col>16</th><th scope=col>17</th><th scope=col>18</th><th scope=col>19</th><th scope=col>20</th><th scope=col>21</th><th scope=col>22</th><th scope=col>23</th><th scope=col>24</th></tr>\n",
              "\t<tr><th scope=col>&lt;chr&gt;</th><th scope=col>&lt;dbl&gt;</th><th scope=col>&lt;dbl&gt;</th><th scope=col>&lt;dbl&gt;</th><th scope=col>&lt;dbl&gt;</th><th scope=col>&lt;dbl&gt;</th><th scope=col>&lt;dbl&gt;</th><th scope=col>&lt;dbl&gt;</th><th scope=col>&lt;dbl&gt;</th><th scope=col>&lt;dbl&gt;</th><th scope=col>⋯</th><th scope=col>&lt;dbl&gt;</th><th scope=col>&lt;dbl&gt;</th><th scope=col>&lt;dbl&gt;</th><th scope=col>&lt;dbl&gt;</th><th scope=col>&lt;dbl&gt;</th><th scope=col>&lt;dbl&gt;</th><th scope=col>&lt;dbl&gt;</th><th scope=col>&lt;dbl&gt;</th><th scope=col>&lt;dbl&gt;</th><th scope=col>&lt;dbl&gt;</th></tr>\n",
              "</thead>\n",
              "<tbody>\n",
              "\t<tr><td>2009-12</td><td>1</td><td>0.3491</td><td>0.3333</td><td>0.4248</td><td>0.3785</td><td>0.3596</td><td>0.3764</td><td>0.3438</td><td>0.3375</td><td>⋯</td><td>0.3028</td><td>0.2629</td><td>0.3028</td><td>0.2839</td><td>0.2587</td><td>0.2545</td><td>0.3134</td><td>0.3039</td><td>0.4059</td><td>0.1966</td></tr>\n",
              "\t<tr><td>2010-01</td><td>1</td><td>0.2147</td><td>0.3207</td><td>0.3152</td><td>0.2717</td><td>0.3098</td><td>0.2690</td><td>0.2337</td><td>0.2853</td><td>⋯</td><td>0.1522</td><td>0.2446</td><td>0.2038</td><td>0.1929</td><td>0.2011</td><td>0.2527</td><td>0.1984</td><td>0.2527</td><td>0.0571</td><td>    NA</td></tr>\n",
              "\t<tr><td>2010-02</td><td>1</td><td>0.2353</td><td>0.2273</td><td>0.2914</td><td>0.2433</td><td>0.1952</td><td>0.1925</td><td>0.2861</td><td>0.2567</td><td>⋯</td><td>0.2005</td><td>0.1578</td><td>0.1604</td><td>0.1444</td><td>0.2273</td><td>0.2299</td><td>0.1658</td><td>0.0588</td><td>    NA</td><td>    NA</td></tr>\n",
              "\t<tr><td>2010-03</td><td>1</td><td>0.1905</td><td>0.2313</td><td>0.2426</td><td>0.2313</td><td>0.2041</td><td>0.2472</td><td>0.3061</td><td>0.2766</td><td>⋯</td><td>0.1701</td><td>0.1746</td><td>0.1565</td><td>0.1769</td><td>0.2041</td><td>0.2132</td><td>0.0771</td><td>    NA</td><td>    NA</td><td>    NA</td></tr>\n",
              "\t<tr><td>2010-04</td><td>1</td><td>0.1890</td><td>0.1890</td><td>0.1581</td><td>0.1856</td><td>0.2199</td><td>0.2784</td><td>0.2680</td><td>0.1065</td><td>⋯</td><td>0.1581</td><td>0.1409</td><td>0.1478</td><td>0.1787</td><td>0.2302</td><td>0.0550</td><td>    NA</td><td>    NA</td><td>    NA</td><td>    NA</td></tr>\n",
              "\t<tr><td>2010-05</td><td>1</td><td>0.1634</td><td>0.1751</td><td>0.1751</td><td>0.1829</td><td>0.2529</td><td>0.2140</td><td>0.1245</td><td>0.0584</td><td>⋯</td><td>0.1245</td><td>0.1401</td><td>0.1634</td><td>0.1518</td><td>0.0467</td><td>    NA</td><td>    NA</td><td>    NA</td><td>    NA</td><td>    NA</td></tr>\n",
              "\t<tr><td>2010-06</td><td>1</td><td>0.1760</td><td>0.1873</td><td>0.2060</td><td>0.2322</td><td>0.2846</td><td>0.1273</td><td>0.0899</td><td>0.0824</td><td>⋯</td><td>0.1236</td><td>0.1311</td><td>0.2022</td><td>0.0487</td><td>    NA</td><td>    NA</td><td>    NA</td><td>    NA</td><td>    NA</td><td>    NA</td></tr>\n",
              "\t<tr><td>2010-07</td><td>1</td><td>0.1568</td><td>0.1838</td><td>0.2973</td><td>0.2919</td><td>0.1405</td><td>0.1135</td><td>0.1459</td><td>0.1459</td><td>⋯</td><td>0.1730</td><td>0.2378</td><td>0.0811</td><td>    NA</td><td>    NA</td><td>    NA</td><td>    NA</td><td>    NA</td><td>    NA</td><td>    NA</td></tr>\n",
              "\t<tr><td>2010-08</td><td>1</td><td>0.1963</td><td>0.2883</td><td>0.3252</td><td>0.1656</td><td>0.1166</td><td>0.0982</td><td>0.1288</td><td>0.1350</td><td>⋯</td><td>0.1963</td><td>0.0736</td><td>    NA</td><td>    NA</td><td>    NA</td><td>    NA</td><td>    NA</td><td>    NA</td><td>    NA</td><td>    NA</td></tr>\n",
              "\t<tr><td>2010-09</td><td>1</td><td>0.2301</td><td>0.2343</td><td>0.1297</td><td>0.0879</td><td>0.1046</td><td>0.1381</td><td>0.0962</td><td>0.1297</td><td>⋯</td><td>0.0544</td><td>    NA</td><td>    NA</td><td>    NA</td><td>    NA</td><td>    NA</td><td>    NA</td><td>    NA</td><td>    NA</td><td>    NA</td></tr>\n",
              "\t<tr><td>2010-10</td><td>1</td><td>0.2587</td><td>0.1467</td><td>0.1253</td><td>0.0880</td><td>0.0827</td><td>0.1307</td><td>0.1387</td><td>0.1067</td><td>⋯</td><td>    NA</td><td>    NA</td><td>    NA</td><td>    NA</td><td>    NA</td><td>    NA</td><td>    NA</td><td>    NA</td><td>    NA</td><td>    NA</td></tr>\n",
              "\t<tr><td>2010-11</td><td>1</td><td>0.1754</td><td>0.0954</td><td>0.0954</td><td>0.0769</td><td>0.0892</td><td>0.1292</td><td>0.1015</td><td>0.0862</td><td>⋯</td><td>    NA</td><td>    NA</td><td>    NA</td><td>    NA</td><td>    NA</td><td>    NA</td><td>    NA</td><td>    NA</td><td>    NA</td><td>    NA</td></tr>\n",
              "\t<tr><td>2010-12</td><td>1</td><td>0.0921</td><td>0.0526</td><td>0.0921</td><td>0.1184</td><td>0.0658</td><td>0.0526</td><td>0.0921</td><td>0.0526</td><td>⋯</td><td>    NA</td><td>    NA</td><td>    NA</td><td>    NA</td><td>    NA</td><td>    NA</td><td>    NA</td><td>    NA</td><td>    NA</td><td>    NA</td></tr>\n",
              "\t<tr><td>2011-01</td><td>1</td><td>0.1667</td><td>0.2222</td><td>0.1944</td><td>0.2222</td><td>0.1528</td><td>0.1528</td><td>0.1250</td><td>0.1111</td><td>⋯</td><td>    NA</td><td>    NA</td><td>    NA</td><td>    NA</td><td>    NA</td><td>    NA</td><td>    NA</td><td>    NA</td><td>    NA</td><td>    NA</td></tr>\n",
              "\t<tr><td>2011-02</td><td>1</td><td>0.1600</td><td>0.1600</td><td>0.1840</td><td>0.2160</td><td>0.1600</td><td>0.1600</td><td>0.1520</td><td>0.1520</td><td>⋯</td><td>    NA</td><td>    NA</td><td>    NA</td><td>    NA</td><td>    NA</td><td>    NA</td><td>    NA</td><td>    NA</td><td>    NA</td><td>    NA</td></tr>\n",
              "\t<tr><td>2011-03</td><td>1</td><td>0.1788</td><td>0.2179</td><td>0.2011</td><td>0.2235</td><td>0.1508</td><td>0.2067</td><td>0.2011</td><td>0.2402</td><td>⋯</td><td>    NA</td><td>    NA</td><td>    NA</td><td>    NA</td><td>    NA</td><td>    NA</td><td>    NA</td><td>    NA</td><td>    NA</td><td>    NA</td></tr>\n",
              "\t<tr><td>2011-04</td><td>1</td><td>0.2453</td><td>0.1981</td><td>0.1981</td><td>0.1792</td><td>0.2358</td><td>0.1792</td><td>0.2547</td><td>0.1132</td><td>⋯</td><td>    NA</td><td>    NA</td><td>    NA</td><td>    NA</td><td>    NA</td><td>    NA</td><td>    NA</td><td>    NA</td><td>    NA</td><td>    NA</td></tr>\n",
              "\t<tr><td>2011-05</td><td>1</td><td>0.2342</td><td>0.2432</td><td>0.1622</td><td>0.2162</td><td>0.2072</td><td>0.2613</td><td>0.1171</td><td>    NA</td><td>⋯</td><td>    NA</td><td>    NA</td><td>    NA</td><td>    NA</td><td>    NA</td><td>    NA</td><td>    NA</td><td>    NA</td><td>    NA</td><td>    NA</td></tr>\n",
              "\t<tr><td>2011-06</td><td>1</td><td>0.2315</td><td>0.2130</td><td>0.2685</td><td>0.2037</td><td>0.2778</td><td>0.0833</td><td>    NA</td><td>    NA</td><td>⋯</td><td>    NA</td><td>    NA</td><td>    NA</td><td>    NA</td><td>    NA</td><td>    NA</td><td>    NA</td><td>    NA</td><td>    NA</td><td>    NA</td></tr>\n",
              "\t<tr><td>2011-07</td><td>1</td><td>0.2079</td><td>0.2970</td><td>0.2772</td><td>0.3465</td><td>0.1584</td><td>    NA</td><td>    NA</td><td>    NA</td><td>⋯</td><td>    NA</td><td>    NA</td><td>    NA</td><td>    NA</td><td>    NA</td><td>    NA</td><td>    NA</td><td>    NA</td><td>    NA</td><td>    NA</td></tr>\n",
              "\t<tr><td>2011-08</td><td>1</td><td>0.2617</td><td>0.2991</td><td>0.2617</td><td>0.1682</td><td>    NA</td><td>    NA</td><td>    NA</td><td>    NA</td><td>⋯</td><td>    NA</td><td>    NA</td><td>    NA</td><td>    NA</td><td>    NA</td><td>    NA</td><td>    NA</td><td>    NA</td><td>    NA</td><td>    NA</td></tr>\n",
              "\t<tr><td>2011-09</td><td>1</td><td>0.2713</td><td>0.3777</td><td>0.1489</td><td>    NA</td><td>    NA</td><td>    NA</td><td>    NA</td><td>    NA</td><td>⋯</td><td>    NA</td><td>    NA</td><td>    NA</td><td>    NA</td><td>    NA</td><td>    NA</td><td>    NA</td><td>    NA</td><td>    NA</td><td>    NA</td></tr>\n",
              "\t<tr><td>2011-10</td><td>1</td><td>0.3153</td><td>0.1577</td><td>    NA</td><td>    NA</td><td>    NA</td><td>    NA</td><td>    NA</td><td>    NA</td><td>⋯</td><td>    NA</td><td>    NA</td><td>    NA</td><td>    NA</td><td>    NA</td><td>    NA</td><td>    NA</td><td>    NA</td><td>    NA</td><td>    NA</td></tr>\n",
              "\t<tr><td>2011-11</td><td>1</td><td>0.1414</td><td>    NA</td><td>    NA</td><td>    NA</td><td>    NA</td><td>    NA</td><td>    NA</td><td>    NA</td><td>⋯</td><td>    NA</td><td>    NA</td><td>    NA</td><td>    NA</td><td>    NA</td><td>    NA</td><td>    NA</td><td>    NA</td><td>    NA</td><td>    NA</td></tr>\n",
              "\t<tr><td>2011-12</td><td>1</td><td>    NA</td><td>    NA</td><td>    NA</td><td>    NA</td><td>    NA</td><td>    NA</td><td>    NA</td><td>    NA</td><td>⋯</td><td>    NA</td><td>    NA</td><td>    NA</td><td>    NA</td><td>    NA</td><td>    NA</td><td>    NA</td><td>    NA</td><td>    NA</td><td>    NA</td></tr>\n",
              "</tbody>\n",
              "</table>\n"
            ],
            "text/markdown": "\nA tibble: 25 × 26\n\n| Cohort &lt;chr&gt; | 0 &lt;dbl&gt; | 1 &lt;dbl&gt; | 2 &lt;dbl&gt; | 3 &lt;dbl&gt; | 4 &lt;dbl&gt; | 5 &lt;dbl&gt; | 6 &lt;dbl&gt; | 7 &lt;dbl&gt; | 8 &lt;dbl&gt; | ⋯ ⋯ | 15 &lt;dbl&gt; | 16 &lt;dbl&gt; | 17 &lt;dbl&gt; | 18 &lt;dbl&gt; | 19 &lt;dbl&gt; | 20 &lt;dbl&gt; | 21 &lt;dbl&gt; | 22 &lt;dbl&gt; | 23 &lt;dbl&gt; | 24 &lt;dbl&gt; |\n|---|---|---|---|---|---|---|---|---|---|---|---|---|---|---|---|---|---|---|---|---|\n| 2009-12 | 1 | 0.3491 | 0.3333 | 0.4248 | 0.3785 | 0.3596 | 0.3764 | 0.3438 | 0.3375 | ⋯ | 0.3028 | 0.2629 | 0.3028 | 0.2839 | 0.2587 | 0.2545 | 0.3134 | 0.3039 | 0.4059 | 0.1966 |\n| 2010-01 | 1 | 0.2147 | 0.3207 | 0.3152 | 0.2717 | 0.3098 | 0.2690 | 0.2337 | 0.2853 | ⋯ | 0.1522 | 0.2446 | 0.2038 | 0.1929 | 0.2011 | 0.2527 | 0.1984 | 0.2527 | 0.0571 |     NA |\n| 2010-02 | 1 | 0.2353 | 0.2273 | 0.2914 | 0.2433 | 0.1952 | 0.1925 | 0.2861 | 0.2567 | ⋯ | 0.2005 | 0.1578 | 0.1604 | 0.1444 | 0.2273 | 0.2299 | 0.1658 | 0.0588 |     NA |     NA |\n| 2010-03 | 1 | 0.1905 | 0.2313 | 0.2426 | 0.2313 | 0.2041 | 0.2472 | 0.3061 | 0.2766 | ⋯ | 0.1701 | 0.1746 | 0.1565 | 0.1769 | 0.2041 | 0.2132 | 0.0771 |     NA |     NA |     NA |\n| 2010-04 | 1 | 0.1890 | 0.1890 | 0.1581 | 0.1856 | 0.2199 | 0.2784 | 0.2680 | 0.1065 | ⋯ | 0.1581 | 0.1409 | 0.1478 | 0.1787 | 0.2302 | 0.0550 |     NA |     NA |     NA |     NA |\n| 2010-05 | 1 | 0.1634 | 0.1751 | 0.1751 | 0.1829 | 0.2529 | 0.2140 | 0.1245 | 0.0584 | ⋯ | 0.1245 | 0.1401 | 0.1634 | 0.1518 | 0.0467 |     NA |     NA |     NA |     NA |     NA |\n| 2010-06 | 1 | 0.1760 | 0.1873 | 0.2060 | 0.2322 | 0.2846 | 0.1273 | 0.0899 | 0.0824 | ⋯ | 0.1236 | 0.1311 | 0.2022 | 0.0487 |     NA |     NA |     NA |     NA |     NA |     NA |\n| 2010-07 | 1 | 0.1568 | 0.1838 | 0.2973 | 0.2919 | 0.1405 | 0.1135 | 0.1459 | 0.1459 | ⋯ | 0.1730 | 0.2378 | 0.0811 |     NA |     NA |     NA |     NA |     NA |     NA |     NA |\n| 2010-08 | 1 | 0.1963 | 0.2883 | 0.3252 | 0.1656 | 0.1166 | 0.0982 | 0.1288 | 0.1350 | ⋯ | 0.1963 | 0.0736 |     NA |     NA |     NA |     NA |     NA |     NA |     NA |     NA |\n| 2010-09 | 1 | 0.2301 | 0.2343 | 0.1297 | 0.0879 | 0.1046 | 0.1381 | 0.0962 | 0.1297 | ⋯ | 0.0544 |     NA |     NA |     NA |     NA |     NA |     NA |     NA |     NA |     NA |\n| 2010-10 | 1 | 0.2587 | 0.1467 | 0.1253 | 0.0880 | 0.0827 | 0.1307 | 0.1387 | 0.1067 | ⋯ |     NA |     NA |     NA |     NA |     NA |     NA |     NA |     NA |     NA |     NA |\n| 2010-11 | 1 | 0.1754 | 0.0954 | 0.0954 | 0.0769 | 0.0892 | 0.1292 | 0.1015 | 0.0862 | ⋯ |     NA |     NA |     NA |     NA |     NA |     NA |     NA |     NA |     NA |     NA |\n| 2010-12 | 1 | 0.0921 | 0.0526 | 0.0921 | 0.1184 | 0.0658 | 0.0526 | 0.0921 | 0.0526 | ⋯ |     NA |     NA |     NA |     NA |     NA |     NA |     NA |     NA |     NA |     NA |\n| 2011-01 | 1 | 0.1667 | 0.2222 | 0.1944 | 0.2222 | 0.1528 | 0.1528 | 0.1250 | 0.1111 | ⋯ |     NA |     NA |     NA |     NA |     NA |     NA |     NA |     NA |     NA |     NA |\n| 2011-02 | 1 | 0.1600 | 0.1600 | 0.1840 | 0.2160 | 0.1600 | 0.1600 | 0.1520 | 0.1520 | ⋯ |     NA |     NA |     NA |     NA |     NA |     NA |     NA |     NA |     NA |     NA |\n| 2011-03 | 1 | 0.1788 | 0.2179 | 0.2011 | 0.2235 | 0.1508 | 0.2067 | 0.2011 | 0.2402 | ⋯ |     NA |     NA |     NA |     NA |     NA |     NA |     NA |     NA |     NA |     NA |\n| 2011-04 | 1 | 0.2453 | 0.1981 | 0.1981 | 0.1792 | 0.2358 | 0.1792 | 0.2547 | 0.1132 | ⋯ |     NA |     NA |     NA |     NA |     NA |     NA |     NA |     NA |     NA |     NA |\n| 2011-05 | 1 | 0.2342 | 0.2432 | 0.1622 | 0.2162 | 0.2072 | 0.2613 | 0.1171 |     NA | ⋯ |     NA |     NA |     NA |     NA |     NA |     NA |     NA |     NA |     NA |     NA |\n| 2011-06 | 1 | 0.2315 | 0.2130 | 0.2685 | 0.2037 | 0.2778 | 0.0833 |     NA |     NA | ⋯ |     NA |     NA |     NA |     NA |     NA |     NA |     NA |     NA |     NA |     NA |\n| 2011-07 | 1 | 0.2079 | 0.2970 | 0.2772 | 0.3465 | 0.1584 |     NA |     NA |     NA | ⋯ |     NA |     NA |     NA |     NA |     NA |     NA |     NA |     NA |     NA |     NA |\n| 2011-08 | 1 | 0.2617 | 0.2991 | 0.2617 | 0.1682 |     NA |     NA |     NA |     NA | ⋯ |     NA |     NA |     NA |     NA |     NA |     NA |     NA |     NA |     NA |     NA |\n| 2011-09 | 1 | 0.2713 | 0.3777 | 0.1489 |     NA |     NA |     NA |     NA |     NA | ⋯ |     NA |     NA |     NA |     NA |     NA |     NA |     NA |     NA |     NA |     NA |\n| 2011-10 | 1 | 0.3153 | 0.1577 |     NA |     NA |     NA |     NA |     NA |     NA | ⋯ |     NA |     NA |     NA |     NA |     NA |     NA |     NA |     NA |     NA |     NA |\n| 2011-11 | 1 | 0.1414 |     NA |     NA |     NA |     NA |     NA |     NA |     NA | ⋯ |     NA |     NA |     NA |     NA |     NA |     NA |     NA |     NA |     NA |     NA |\n| 2011-12 | 1 |     NA |     NA |     NA |     NA |     NA |     NA |     NA |     NA | ⋯ |     NA |     NA |     NA |     NA |     NA |     NA |     NA |     NA |     NA |     NA |\n\n",
            "text/latex": "A tibble: 25 × 26\n\\begin{tabular}{lllllllllllllllllllll}\n Cohort & 0 & 1 & 2 & 3 & 4 & 5 & 6 & 7 & 8 & ⋯ & 15 & 16 & 17 & 18 & 19 & 20 & 21 & 22 & 23 & 24\\\\\n <chr> & <dbl> & <dbl> & <dbl> & <dbl> & <dbl> & <dbl> & <dbl> & <dbl> & <dbl> & ⋯ & <dbl> & <dbl> & <dbl> & <dbl> & <dbl> & <dbl> & <dbl> & <dbl> & <dbl> & <dbl>\\\\\n\\hline\n\t 2009-12 & 1 & 0.3491 & 0.3333 & 0.4248 & 0.3785 & 0.3596 & 0.3764 & 0.3438 & 0.3375 & ⋯ & 0.3028 & 0.2629 & 0.3028 & 0.2839 & 0.2587 & 0.2545 & 0.3134 & 0.3039 & 0.4059 & 0.1966\\\\\n\t 2010-01 & 1 & 0.2147 & 0.3207 & 0.3152 & 0.2717 & 0.3098 & 0.2690 & 0.2337 & 0.2853 & ⋯ & 0.1522 & 0.2446 & 0.2038 & 0.1929 & 0.2011 & 0.2527 & 0.1984 & 0.2527 & 0.0571 &     NA\\\\\n\t 2010-02 & 1 & 0.2353 & 0.2273 & 0.2914 & 0.2433 & 0.1952 & 0.1925 & 0.2861 & 0.2567 & ⋯ & 0.2005 & 0.1578 & 0.1604 & 0.1444 & 0.2273 & 0.2299 & 0.1658 & 0.0588 &     NA &     NA\\\\\n\t 2010-03 & 1 & 0.1905 & 0.2313 & 0.2426 & 0.2313 & 0.2041 & 0.2472 & 0.3061 & 0.2766 & ⋯ & 0.1701 & 0.1746 & 0.1565 & 0.1769 & 0.2041 & 0.2132 & 0.0771 &     NA &     NA &     NA\\\\\n\t 2010-04 & 1 & 0.1890 & 0.1890 & 0.1581 & 0.1856 & 0.2199 & 0.2784 & 0.2680 & 0.1065 & ⋯ & 0.1581 & 0.1409 & 0.1478 & 0.1787 & 0.2302 & 0.0550 &     NA &     NA &     NA &     NA\\\\\n\t 2010-05 & 1 & 0.1634 & 0.1751 & 0.1751 & 0.1829 & 0.2529 & 0.2140 & 0.1245 & 0.0584 & ⋯ & 0.1245 & 0.1401 & 0.1634 & 0.1518 & 0.0467 &     NA &     NA &     NA &     NA &     NA\\\\\n\t 2010-06 & 1 & 0.1760 & 0.1873 & 0.2060 & 0.2322 & 0.2846 & 0.1273 & 0.0899 & 0.0824 & ⋯ & 0.1236 & 0.1311 & 0.2022 & 0.0487 &     NA &     NA &     NA &     NA &     NA &     NA\\\\\n\t 2010-07 & 1 & 0.1568 & 0.1838 & 0.2973 & 0.2919 & 0.1405 & 0.1135 & 0.1459 & 0.1459 & ⋯ & 0.1730 & 0.2378 & 0.0811 &     NA &     NA &     NA &     NA &     NA &     NA &     NA\\\\\n\t 2010-08 & 1 & 0.1963 & 0.2883 & 0.3252 & 0.1656 & 0.1166 & 0.0982 & 0.1288 & 0.1350 & ⋯ & 0.1963 & 0.0736 &     NA &     NA &     NA &     NA &     NA &     NA &     NA &     NA\\\\\n\t 2010-09 & 1 & 0.2301 & 0.2343 & 0.1297 & 0.0879 & 0.1046 & 0.1381 & 0.0962 & 0.1297 & ⋯ & 0.0544 &     NA &     NA &     NA &     NA &     NA &     NA &     NA &     NA &     NA\\\\\n\t 2010-10 & 1 & 0.2587 & 0.1467 & 0.1253 & 0.0880 & 0.0827 & 0.1307 & 0.1387 & 0.1067 & ⋯ &     NA &     NA &     NA &     NA &     NA &     NA &     NA &     NA &     NA &     NA\\\\\n\t 2010-11 & 1 & 0.1754 & 0.0954 & 0.0954 & 0.0769 & 0.0892 & 0.1292 & 0.1015 & 0.0862 & ⋯ &     NA &     NA &     NA &     NA &     NA &     NA &     NA &     NA &     NA &     NA\\\\\n\t 2010-12 & 1 & 0.0921 & 0.0526 & 0.0921 & 0.1184 & 0.0658 & 0.0526 & 0.0921 & 0.0526 & ⋯ &     NA &     NA &     NA &     NA &     NA &     NA &     NA &     NA &     NA &     NA\\\\\n\t 2011-01 & 1 & 0.1667 & 0.2222 & 0.1944 & 0.2222 & 0.1528 & 0.1528 & 0.1250 & 0.1111 & ⋯ &     NA &     NA &     NA &     NA &     NA &     NA &     NA &     NA &     NA &     NA\\\\\n\t 2011-02 & 1 & 0.1600 & 0.1600 & 0.1840 & 0.2160 & 0.1600 & 0.1600 & 0.1520 & 0.1520 & ⋯ &     NA &     NA &     NA &     NA &     NA &     NA &     NA &     NA &     NA &     NA\\\\\n\t 2011-03 & 1 & 0.1788 & 0.2179 & 0.2011 & 0.2235 & 0.1508 & 0.2067 & 0.2011 & 0.2402 & ⋯ &     NA &     NA &     NA &     NA &     NA &     NA &     NA &     NA &     NA &     NA\\\\\n\t 2011-04 & 1 & 0.2453 & 0.1981 & 0.1981 & 0.1792 & 0.2358 & 0.1792 & 0.2547 & 0.1132 & ⋯ &     NA &     NA &     NA &     NA &     NA &     NA &     NA &     NA &     NA &     NA\\\\\n\t 2011-05 & 1 & 0.2342 & 0.2432 & 0.1622 & 0.2162 & 0.2072 & 0.2613 & 0.1171 &     NA & ⋯ &     NA &     NA &     NA &     NA &     NA &     NA &     NA &     NA &     NA &     NA\\\\\n\t 2011-06 & 1 & 0.2315 & 0.2130 & 0.2685 & 0.2037 & 0.2778 & 0.0833 &     NA &     NA & ⋯ &     NA &     NA &     NA &     NA &     NA &     NA &     NA &     NA &     NA &     NA\\\\\n\t 2011-07 & 1 & 0.2079 & 0.2970 & 0.2772 & 0.3465 & 0.1584 &     NA &     NA &     NA & ⋯ &     NA &     NA &     NA &     NA &     NA &     NA &     NA &     NA &     NA &     NA\\\\\n\t 2011-08 & 1 & 0.2617 & 0.2991 & 0.2617 & 0.1682 &     NA &     NA &     NA &     NA & ⋯ &     NA &     NA &     NA &     NA &     NA &     NA &     NA &     NA &     NA &     NA\\\\\n\t 2011-09 & 1 & 0.2713 & 0.3777 & 0.1489 &     NA &     NA &     NA &     NA &     NA & ⋯ &     NA &     NA &     NA &     NA &     NA &     NA &     NA &     NA &     NA &     NA\\\\\n\t 2011-10 & 1 & 0.3153 & 0.1577 &     NA &     NA &     NA &     NA &     NA &     NA & ⋯ &     NA &     NA &     NA &     NA &     NA &     NA &     NA &     NA &     NA &     NA\\\\\n\t 2011-11 & 1 & 0.1414 &     NA &     NA &     NA &     NA &     NA &     NA &     NA & ⋯ &     NA &     NA &     NA &     NA &     NA &     NA &     NA &     NA &     NA &     NA\\\\\n\t 2011-12 & 1 &     NA &     NA &     NA &     NA &     NA &     NA &     NA &     NA & ⋯ &     NA &     NA &     NA &     NA &     NA &     NA &     NA &     NA &     NA &     NA\\\\\n\\end{tabular}\n",
            "text/plain": [
              "   Cohort  0 1      2      3      4      5      6      7      8      ⋯ 15    \n",
              "1  2009-12 1 0.3491 0.3333 0.4248 0.3785 0.3596 0.3764 0.3438 0.3375 ⋯ 0.3028\n",
              "2  2010-01 1 0.2147 0.3207 0.3152 0.2717 0.3098 0.2690 0.2337 0.2853 ⋯ 0.1522\n",
              "3  2010-02 1 0.2353 0.2273 0.2914 0.2433 0.1952 0.1925 0.2861 0.2567 ⋯ 0.2005\n",
              "4  2010-03 1 0.1905 0.2313 0.2426 0.2313 0.2041 0.2472 0.3061 0.2766 ⋯ 0.1701\n",
              "5  2010-04 1 0.1890 0.1890 0.1581 0.1856 0.2199 0.2784 0.2680 0.1065 ⋯ 0.1581\n",
              "6  2010-05 1 0.1634 0.1751 0.1751 0.1829 0.2529 0.2140 0.1245 0.0584 ⋯ 0.1245\n",
              "7  2010-06 1 0.1760 0.1873 0.2060 0.2322 0.2846 0.1273 0.0899 0.0824 ⋯ 0.1236\n",
              "8  2010-07 1 0.1568 0.1838 0.2973 0.2919 0.1405 0.1135 0.1459 0.1459 ⋯ 0.1730\n",
              "9  2010-08 1 0.1963 0.2883 0.3252 0.1656 0.1166 0.0982 0.1288 0.1350 ⋯ 0.1963\n",
              "10 2010-09 1 0.2301 0.2343 0.1297 0.0879 0.1046 0.1381 0.0962 0.1297 ⋯ 0.0544\n",
              "11 2010-10 1 0.2587 0.1467 0.1253 0.0880 0.0827 0.1307 0.1387 0.1067 ⋯     NA\n",
              "12 2010-11 1 0.1754 0.0954 0.0954 0.0769 0.0892 0.1292 0.1015 0.0862 ⋯     NA\n",
              "13 2010-12 1 0.0921 0.0526 0.0921 0.1184 0.0658 0.0526 0.0921 0.0526 ⋯     NA\n",
              "14 2011-01 1 0.1667 0.2222 0.1944 0.2222 0.1528 0.1528 0.1250 0.1111 ⋯     NA\n",
              "15 2011-02 1 0.1600 0.1600 0.1840 0.2160 0.1600 0.1600 0.1520 0.1520 ⋯     NA\n",
              "16 2011-03 1 0.1788 0.2179 0.2011 0.2235 0.1508 0.2067 0.2011 0.2402 ⋯     NA\n",
              "17 2011-04 1 0.2453 0.1981 0.1981 0.1792 0.2358 0.1792 0.2547 0.1132 ⋯     NA\n",
              "18 2011-05 1 0.2342 0.2432 0.1622 0.2162 0.2072 0.2613 0.1171     NA ⋯     NA\n",
              "19 2011-06 1 0.2315 0.2130 0.2685 0.2037 0.2778 0.0833     NA     NA ⋯     NA\n",
              "20 2011-07 1 0.2079 0.2970 0.2772 0.3465 0.1584     NA     NA     NA ⋯     NA\n",
              "21 2011-08 1 0.2617 0.2991 0.2617 0.1682     NA     NA     NA     NA ⋯     NA\n",
              "22 2011-09 1 0.2713 0.3777 0.1489     NA     NA     NA     NA     NA ⋯     NA\n",
              "23 2011-10 1 0.3153 0.1577     NA     NA     NA     NA     NA     NA ⋯     NA\n",
              "24 2011-11 1 0.1414     NA     NA     NA     NA     NA     NA     NA ⋯     NA\n",
              "25 2011-12 1     NA     NA     NA     NA     NA     NA     NA     NA ⋯     NA\n",
              "   16     17     18     19     20     21     22     23     24    \n",
              "1  0.2629 0.3028 0.2839 0.2587 0.2545 0.3134 0.3039 0.4059 0.1966\n",
              "2  0.2446 0.2038 0.1929 0.2011 0.2527 0.1984 0.2527 0.0571     NA\n",
              "3  0.1578 0.1604 0.1444 0.2273 0.2299 0.1658 0.0588     NA     NA\n",
              "4  0.1746 0.1565 0.1769 0.2041 0.2132 0.0771     NA     NA     NA\n",
              "5  0.1409 0.1478 0.1787 0.2302 0.0550     NA     NA     NA     NA\n",
              "6  0.1401 0.1634 0.1518 0.0467     NA     NA     NA     NA     NA\n",
              "7  0.1311 0.2022 0.0487     NA     NA     NA     NA     NA     NA\n",
              "8  0.2378 0.0811     NA     NA     NA     NA     NA     NA     NA\n",
              "9  0.0736     NA     NA     NA     NA     NA     NA     NA     NA\n",
              "10     NA     NA     NA     NA     NA     NA     NA     NA     NA\n",
              "11     NA     NA     NA     NA     NA     NA     NA     NA     NA\n",
              "12     NA     NA     NA     NA     NA     NA     NA     NA     NA\n",
              "13     NA     NA     NA     NA     NA     NA     NA     NA     NA\n",
              "14     NA     NA     NA     NA     NA     NA     NA     NA     NA\n",
              "15     NA     NA     NA     NA     NA     NA     NA     NA     NA\n",
              "16     NA     NA     NA     NA     NA     NA     NA     NA     NA\n",
              "17     NA     NA     NA     NA     NA     NA     NA     NA     NA\n",
              "18     NA     NA     NA     NA     NA     NA     NA     NA     NA\n",
              "19     NA     NA     NA     NA     NA     NA     NA     NA     NA\n",
              "20     NA     NA     NA     NA     NA     NA     NA     NA     NA\n",
              "21     NA     NA     NA     NA     NA     NA     NA     NA     NA\n",
              "22     NA     NA     NA     NA     NA     NA     NA     NA     NA\n",
              "23     NA     NA     NA     NA     NA     NA     NA     NA     NA\n",
              "24     NA     NA     NA     NA     NA     NA     NA     NA     NA\n",
              "25     NA     NA     NA     NA     NA     NA     NA     NA     NA"
            ]
          },
          "metadata": {}
        }
      ]
    },
    {
      "cell_type": "code",
      "source": [
        "# Baixar o Excel\n",
        "writexl::write_xlsx(cohort_pivot, \"cohort_pivot.xlsx\")"
      ],
      "metadata": {
        "id": "Mvb1KfafryGJ"
      },
      "execution_count": null,
      "outputs": []
    },
    {
      "cell_type": "code",
      "source": [
        "# Baixar o Excel\n",
        "writexl::write_xlsx(cohort_pct, \"cohort_pct.xlsx\")"
      ],
      "metadata": {
        "id": "C-4HDnsYT17f"
      },
      "execution_count": null,
      "outputs": []
    }
  ]
}